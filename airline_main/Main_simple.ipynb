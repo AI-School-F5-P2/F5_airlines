{
 "cells": [
  {
   "cell_type": "markdown",
   "id": "f63387a7",
   "metadata": {},
   "source": [
    "  # Main simplificado"
   ]
  },
  {
   "cell_type": "code",
   "execution_count": 4,
   "id": "45ce5c1b",
   "metadata": {
    "scrolled": true
   },
   "outputs": [],
   "source": [
    "# Librerías básicas\n",
    "import pandas as pd\n",
    "import numpy as np\n",
    "from tabulate import tabulate\n",
    "import math\n",
    "\n",
    "# Librerías de visualización\n",
    "import matplotlib.pyplot as plt\n",
    "import seaborn as sns\n",
    "import warnings\n",
    "warnings.filterwarnings(\"ignore\")\n",
    "\n",
    "sns.set(style=\"whitegrid\",font_scale=1, palette=\"pastel\")\n",
    "\n",
    "#Libreria para separacion de datos train y test\n",
    "import pickle\n",
    "from pprint import pprint\n",
    "from sklearn.pipeline import Pipeline\n",
    "from sklearn.model_selection import train_test_split, StratifiedKFold, cross_val_predict\n",
    "from sklearn.preprocessing import  OneHotEncoder, StandardScaler, MinMaxScaler, FunctionTransformer, PowerTransformer\n",
    "from sklearn.compose import make_column_transformer, ColumnTransformer\n",
    "from sklearn.base import BaseEstimator, TransformerMixin\n",
    "\n",
    "from sklearn.linear_model import LogisticRegression\n",
    "from sklearn.neighbors import KNeighborsClassifier\n",
    "from sklearn.tree import DecisionTreeClassifier\n",
    "from sklearn.ensemble import RandomForestClassifier, GradientBoostingClassifier, AdaBoostClassifier, StackingClassifier\n",
    "\n",
    "from sklearn.model_selection import cross_validate, cross_val_score\n",
    " \n",
    "from sklearn.metrics import accuracy_score, f1_score, recall_score, precision_score, confusion_matrix, r2_score,  make_scorer\n",
    "from sklearn.preprocessing import  OneHotEncoder, StandardScaler, MinMaxScaler, FunctionTransformer, PowerTransformer\n",
    "from sklearn.compose import make_column_transformer, ColumnTransformer\n",
    "\n",
    "\n",
    "# Librerias a usar para el modelo de machine learning\n",
    "from sklearn.ensemble import GradientBoostingClassifier, HistGradientBoostingClassifier\n",
    "from sklearn.model_selection import GridSearchCV\n",
    "from sklearn.metrics import accuracy_score, confusion_matrix, classification_report\n",
    "from sklearn.preprocessing import LabelEncoder, OneHotEncoder\n",
    "from sklearn.impute import SimpleImputer\n",
    "from sklearn.experimental import enable_hist_gradient_boosting"
   ]
  },
  {
   "cell_type": "code",
   "execution_count": 5,
   "id": "41fbc4d0",
   "metadata": {},
   "outputs": [],
   "source": [
    "# Flag que indica, cuando es True, que es la última vez que se entrena al modelo definitivo y se puede guardar\n",
    "save_pickle = False"
   ]
  },
  {
   "cell_type": "code",
   "execution_count": 6,
   "id": "072b8369",
   "metadata": {},
   "outputs": [],
   "source": [
    "def model_pred(model, X, y, flag):  \n",
    "   \n",
    "    # Define a column transformer\n",
    "    preprocessor = ColumnTransformer(\n",
    "        transformers=[\n",
    "            ('num', Pipeline(steps=[('imputer', SimpleImputer(strategy='median')),\n",
    "                                    ('scaler', MinMaxScaler())]), num_cols),\n",
    "            ('cat', Pipeline(steps=[('imputer', SimpleImputer(strategy='most_frequent')),\n",
    "                                    ('onehot', OneHotEncoder(handle_unknown='ignore'))]), cat_cols)])\n",
    "\n",
    "    # Create a pipeline\n",
    "    pipeline = Pipeline(steps=[('preprocessor', preprocessor),\n",
    "                                ('model', model)])\n",
    "\n",
    "    # Define the metrics for evaluation\n",
    "    scoring = {\n",
    "        'accuracy': make_scorer(accuracy_score),\n",
    "        'f1': make_scorer(f1_score, average='weighted'),\n",
    "        'recall': make_scorer(recall_score, average='weighted'),\n",
    "        'precision': make_scorer(precision_score, average='weighted')\n",
    "    }\n",
    "\n",
    "    # Perform 5-fold cross-validation\n",
    "    cv_results = cross_validate(pipeline, X, y, cv=5, scoring=scoring, return_train_score=True)\n",
    "\n",
    "    # Calculate overfitting as the difference between training and validation accuracy\n",
    "    overfitting = (np.mean(cv_results['train_accuracy']) - np.mean(cv_results['test_accuracy'])) * 100\n",
    "\n",
    "    y_pred = cross_val_predict(pipeline, X, y)\n",
    "\n",
    "    # Store the evaluation results\n",
    "    results = {\n",
    "        'fit_time': np.mean(cv_results['fit_time']),\n",
    "        'accuracy': np.mean(cv_results['test_accuracy']),\n",
    "        'f1': np.mean(cv_results['test_f1']),\n",
    "        'recall': np.mean(cv_results['test_recall']),\n",
    "        'precision': np.mean(cv_results['test_precision']),\n",
    "        'overfitting': overfitting,\n",
    "        'cm': confusion_matrix(y, y_pred)\n",
    "    }\n",
    "\n",
    "    # Train the model on the entire dataset\n",
    "    pipeline.fit(X, y)\n",
    "    \n",
    "    if flag:\n",
    "        # Guardar el pipeline usando Pickle. \n",
    "        with open('data_pipeline.pkl', 'wb') as file:\n",
    "            pickle.dump(pipeline, file)\n",
    "\n",
    "    return results"
   ]
  },
  {
   "cell_type": "code",
   "execution_count": 7,
   "id": "18ba8da8",
   "metadata": {},
   "outputs": [],
   "source": [
    "#Lectura del dataset\n",
    "df = pd.read_csv(\"airline_passenger_satisfaction.csv\")"
   ]
  },
  {
   "cell_type": "code",
   "execution_count": 8,
   "id": "10da0f4c",
   "metadata": {
    "scrolled": true
   },
   "outputs": [],
   "source": [
    "# Configura Pandas para mostrar todas las columnas\n",
    "pd.set_option('display.max_columns', None)\n"
   ]
  },
  {
   "cell_type": "code",
   "execution_count": 9,
   "id": "ccb3278c",
   "metadata": {},
   "outputs": [],
   "source": [
    "# Cambiar solo 'disloyal Customer' a 'Disloyal Customer'. Acordarme de ponerlo en el pipeline\n",
    "df.loc[df['Customer Type'] == 'disloyal Customer', 'Customer Type'] = 'Disloyal Customer'"
   ]
  },
  {
   "cell_type": "code",
   "execution_count": 10,
   "id": "bda73305",
   "metadata": {},
   "outputs": [],
   "source": [
    "# Para llenar los valores nulos con la media: (MIRAR SI SE IMPUTAN CON MEDIA O MEDIANA)\n",
    "df['Arrival Delay in Minutes'] = df['Arrival Delay in Minutes'].fillna(df['Arrival Delay in Minutes'].mean())"
   ]
  },
  {
   "cell_type": "code",
   "execution_count": 11,
   "id": "babbd661",
   "metadata": {},
   "outputs": [],
   "source": [
    "# Para convertir una columna de tipo float a int \n",
    "df['Arrival Delay in Minutes'] = df['Arrival Delay in Minutes'].astype(int)"
   ]
  },
  {
   "cell_type": "code",
   "execution_count": 12,
   "id": "b0aeffa2",
   "metadata": {},
   "outputs": [],
   "source": [
    "# Se borran las columnas que no nos hacen falta\n",
    "columna_a_borrar = ['Unnamed: 0', \"id\"]\n",
    "#df = df.drop(columna_a_borrar, axis=1, inplace=True)"
   ]
  },
  {
   "cell_type": "code",
   "execution_count": 13,
   "id": "3d1d8b96",
   "metadata": {},
   "outputs": [],
   "source": [
    "# Outliers"
   ]
  },
  {
   "cell_type": "code",
   "execution_count": 14,
   "id": "2daff532",
   "metadata": {},
   "outputs": [],
   "source": [
    "mean = df[\"Flight Distance\"].mean()\n",
    "std = df[\"Flight Distance\"].std()\n",
    "\n",
    "threshold = 3 * std\n",
    "\n",
    "outliers = df[abs(df['Flight Distance'] - mean) > threshold]"
   ]
  },
  {
   "cell_type": "code",
   "execution_count": 15,
   "id": "62c621f3",
   "metadata": {},
   "outputs": [],
   "source": [
    "df = df.drop(index=outliers.index)"
   ]
  },
  {
   "cell_type": "code",
   "execution_count": 16,
   "id": "7e60f7af",
   "metadata": {},
   "outputs": [],
   "source": [
    "# Separación de características\n",
    "num_cols = [\"Age\",\"Flight Distance\",\"Inflight wifi service\",\"Departure/Arrival time convenient\", \"Ease of Online booking\",\n",
    "                 \"Gate location\", \"Food and drink\", \"Online boarding\", \"Seat comfort\", \"Inflight entertainment\", \"On-board service\",\n",
    "                 \"Leg room service\", \"Baggage handling\", \"Checkin service\", \"Inflight service\", \"Cleanliness\", \"Departure Delay in Minutes\",\n",
    "                 \"Arrival Delay in Minutes\"]\n",
    "\n",
    "cat_cols = ['Gender', 'Customer Type', 'Type of Travel', 'Class']"
   ]
  },
  {
   "cell_type": "code",
   "execution_count": 17,
   "id": "a18771c5",
   "metadata": {
    "scrolled": true
   },
   "outputs": [],
   "source": [
    "modelos = [\n",
    "    LogisticRegression(),\n",
    "    #RandomForestClassifier(),\n",
    "    #KNeighborsClassifier(),\n",
    "    # Agrega otros modelos aquí\n",
    "]"
   ]
  },
  {
   "cell_type": "code",
   "execution_count": 18,
   "id": "3731e41a",
   "metadata": {},
   "outputs": [],
   "source": [
    "# Separar Variable Objetivo, target o variable dependiente de las variables independientes\n",
    "df_f = pd.DataFrame(df)\n",
    "y = df_f[\"satisfaction\"]\n",
    "X = df_f.drop(columns=\"satisfaction\")"
   ]
  },
  {
   "cell_type": "code",
   "execution_count": 19,
   "id": "a8ff5d13",
   "metadata": {},
   "outputs": [],
   "source": [
    "# Crea un diccionario para almacenar los resultados de cada modelo\n",
    "resultados_por_modelo = {}"
   ]
  },
  {
   "cell_type": "code",
   "execution_count": 20,
   "id": "5f3e51d7",
   "metadata": {},
   "outputs": [
    {
     "ename": "KeyboardInterrupt",
     "evalue": "",
     "output_type": "error",
     "traceback": [
      "\u001b[1;31m---------------------------------------------------------------------------\u001b[0m",
      "\u001b[1;31mKeyboardInterrupt\u001b[0m                         Traceback (most recent call last)",
      "\u001b[1;32mc:\\Users\\psych\\OneDrive\\Escritorio\\IAF5\\proyectos\\proyecto_airlines\\airline_main\\Main_simple.ipynb Celda 18\u001b[0m line \u001b[0;36m4\n\u001b[0;32m      <a href='vscode-notebook-cell:/c%3A/Users/psych/OneDrive/Escritorio/IAF5/proyectos/proyecto_airlines/airline_main/Main_simple.ipynb#X23sZmlsZQ%3D%3D?line=0'>1</a>\u001b[0m \u001b[39m# Itera sobre los modelos\u001b[39;00m\n\u001b[0;32m      <a href='vscode-notebook-cell:/c%3A/Users/psych/OneDrive/Escritorio/IAF5/proyectos/proyecto_airlines/airline_main/Main_simple.ipynb#X23sZmlsZQ%3D%3D?line=1'>2</a>\u001b[0m \u001b[39mfor\u001b[39;00m modelo \u001b[39min\u001b[39;00m modelos:\n\u001b[0;32m      <a href='vscode-notebook-cell:/c%3A/Users/psych/OneDrive/Escritorio/IAF5/proyectos/proyecto_airlines/airline_main/Main_simple.ipynb#X23sZmlsZQ%3D%3D?line=2'>3</a>\u001b[0m     \u001b[39m# Entrena y evalúa el modelo actual\u001b[39;00m\n\u001b[1;32m----> <a href='vscode-notebook-cell:/c%3A/Users/psych/OneDrive/Escritorio/IAF5/proyectos/proyecto_airlines/airline_main/Main_simple.ipynb#X23sZmlsZQ%3D%3D?line=3'>4</a>\u001b[0m     resultados \u001b[39m=\u001b[39m model_pred(modelo, X, y, save_pickle)\n\u001b[0;32m      <a href='vscode-notebook-cell:/c%3A/Users/psych/OneDrive/Escritorio/IAF5/proyectos/proyecto_airlines/airline_main/Main_simple.ipynb#X23sZmlsZQ%3D%3D?line=6'>7</a>\u001b[0m     \u001b[39m# Almacena los resultados en el diccionario\u001b[39;00m\n\u001b[0;32m      <a href='vscode-notebook-cell:/c%3A/Users/psych/OneDrive/Escritorio/IAF5/proyectos/proyecto_airlines/airline_main/Main_simple.ipynb#X23sZmlsZQ%3D%3D?line=7'>8</a>\u001b[0m     nombre_modelo \u001b[39m=\u001b[39m \u001b[39mtype\u001b[39m(modelo)\u001b[39m.\u001b[39m\u001b[39m__name__\u001b[39m\n",
      "\u001b[1;32mc:\\Users\\psych\\OneDrive\\Escritorio\\IAF5\\proyectos\\proyecto_airlines\\airline_main\\Main_simple.ipynb Celda 18\u001b[0m line \u001b[0;36m2\n\u001b[0;32m     <a href='vscode-notebook-cell:/c%3A/Users/psych/OneDrive/Escritorio/IAF5/proyectos/proyecto_airlines/airline_main/Main_simple.ipynb#X23sZmlsZQ%3D%3D?line=15'>16</a>\u001b[0m scoring \u001b[39m=\u001b[39m {\n\u001b[0;32m     <a href='vscode-notebook-cell:/c%3A/Users/psych/OneDrive/Escritorio/IAF5/proyectos/proyecto_airlines/airline_main/Main_simple.ipynb#X23sZmlsZQ%3D%3D?line=16'>17</a>\u001b[0m     \u001b[39m'\u001b[39m\u001b[39maccuracy\u001b[39m\u001b[39m'\u001b[39m: make_scorer(accuracy_score),\n\u001b[0;32m     <a href='vscode-notebook-cell:/c%3A/Users/psych/OneDrive/Escritorio/IAF5/proyectos/proyecto_airlines/airline_main/Main_simple.ipynb#X23sZmlsZQ%3D%3D?line=17'>18</a>\u001b[0m     \u001b[39m'\u001b[39m\u001b[39mf1\u001b[39m\u001b[39m'\u001b[39m: make_scorer(f1_score, average\u001b[39m=\u001b[39m\u001b[39m'\u001b[39m\u001b[39mweighted\u001b[39m\u001b[39m'\u001b[39m),\n\u001b[0;32m     <a href='vscode-notebook-cell:/c%3A/Users/psych/OneDrive/Escritorio/IAF5/proyectos/proyecto_airlines/airline_main/Main_simple.ipynb#X23sZmlsZQ%3D%3D?line=18'>19</a>\u001b[0m     \u001b[39m'\u001b[39m\u001b[39mrecall\u001b[39m\u001b[39m'\u001b[39m: make_scorer(recall_score, average\u001b[39m=\u001b[39m\u001b[39m'\u001b[39m\u001b[39mweighted\u001b[39m\u001b[39m'\u001b[39m),\n\u001b[0;32m     <a href='vscode-notebook-cell:/c%3A/Users/psych/OneDrive/Escritorio/IAF5/proyectos/proyecto_airlines/airline_main/Main_simple.ipynb#X23sZmlsZQ%3D%3D?line=19'>20</a>\u001b[0m     \u001b[39m'\u001b[39m\u001b[39mprecision\u001b[39m\u001b[39m'\u001b[39m: make_scorer(precision_score, average\u001b[39m=\u001b[39m\u001b[39m'\u001b[39m\u001b[39mweighted\u001b[39m\u001b[39m'\u001b[39m)\n\u001b[0;32m     <a href='vscode-notebook-cell:/c%3A/Users/psych/OneDrive/Escritorio/IAF5/proyectos/proyecto_airlines/airline_main/Main_simple.ipynb#X23sZmlsZQ%3D%3D?line=20'>21</a>\u001b[0m }\n\u001b[0;32m     <a href='vscode-notebook-cell:/c%3A/Users/psych/OneDrive/Escritorio/IAF5/proyectos/proyecto_airlines/airline_main/Main_simple.ipynb#X23sZmlsZQ%3D%3D?line=22'>23</a>\u001b[0m \u001b[39m# Perform 5-fold cross-validation\u001b[39;00m\n\u001b[1;32m---> <a href='vscode-notebook-cell:/c%3A/Users/psych/OneDrive/Escritorio/IAF5/proyectos/proyecto_airlines/airline_main/Main_simple.ipynb#X23sZmlsZQ%3D%3D?line=23'>24</a>\u001b[0m cv_results \u001b[39m=\u001b[39m cross_validate(pipeline, X, y, cv\u001b[39m=\u001b[39;49m\u001b[39m5\u001b[39;49m, scoring\u001b[39m=\u001b[39;49mscoring, return_train_score\u001b[39m=\u001b[39;49m\u001b[39mTrue\u001b[39;49;00m)\n\u001b[0;32m     <a href='vscode-notebook-cell:/c%3A/Users/psych/OneDrive/Escritorio/IAF5/proyectos/proyecto_airlines/airline_main/Main_simple.ipynb#X23sZmlsZQ%3D%3D?line=25'>26</a>\u001b[0m \u001b[39m# Calculate overfitting as the difference between training and validation accuracy\u001b[39;00m\n\u001b[0;32m     <a href='vscode-notebook-cell:/c%3A/Users/psych/OneDrive/Escritorio/IAF5/proyectos/proyecto_airlines/airline_main/Main_simple.ipynb#X23sZmlsZQ%3D%3D?line=26'>27</a>\u001b[0m overfitting \u001b[39m=\u001b[39m (np\u001b[39m.\u001b[39mmean(cv_results[\u001b[39m'\u001b[39m\u001b[39mtrain_accuracy\u001b[39m\u001b[39m'\u001b[39m]) \u001b[39m-\u001b[39m np\u001b[39m.\u001b[39mmean(cv_results[\u001b[39m'\u001b[39m\u001b[39mtest_accuracy\u001b[39m\u001b[39m'\u001b[39m])) \u001b[39m*\u001b[39m \u001b[39m100\u001b[39m\n",
      "File \u001b[1;32mc:\\Users\\psych\\OneDrive\\Escritorio\\IAF5\\proyectos\\proyecto_airlines\\airline\\Lib\\site-packages\\sklearn\\utils\\_param_validation.py:211\u001b[0m, in \u001b[0;36mvalidate_params.<locals>.decorator.<locals>.wrapper\u001b[1;34m(*args, **kwargs)\u001b[0m\n\u001b[0;32m    205\u001b[0m \u001b[39mtry\u001b[39;00m:\n\u001b[0;32m    206\u001b[0m     \u001b[39mwith\u001b[39;00m config_context(\n\u001b[0;32m    207\u001b[0m         skip_parameter_validation\u001b[39m=\u001b[39m(\n\u001b[0;32m    208\u001b[0m             prefer_skip_nested_validation \u001b[39mor\u001b[39;00m global_skip_validation\n\u001b[0;32m    209\u001b[0m         )\n\u001b[0;32m    210\u001b[0m     ):\n\u001b[1;32m--> 211\u001b[0m         \u001b[39mreturn\u001b[39;00m func(\u001b[39m*\u001b[39;49margs, \u001b[39m*\u001b[39;49m\u001b[39m*\u001b[39;49mkwargs)\n\u001b[0;32m    212\u001b[0m \u001b[39mexcept\u001b[39;00m InvalidParameterError \u001b[39mas\u001b[39;00m e:\n\u001b[0;32m    213\u001b[0m     \u001b[39m# When the function is just a wrapper around an estimator, we allow\u001b[39;00m\n\u001b[0;32m    214\u001b[0m     \u001b[39m# the function to delegate validation to the estimator, but we replace\u001b[39;00m\n\u001b[0;32m    215\u001b[0m     \u001b[39m# the name of the estimator by the name of the function in the error\u001b[39;00m\n\u001b[0;32m    216\u001b[0m     \u001b[39m# message to avoid confusion.\u001b[39;00m\n\u001b[0;32m    217\u001b[0m     msg \u001b[39m=\u001b[39m re\u001b[39m.\u001b[39msub(\n\u001b[0;32m    218\u001b[0m         \u001b[39mr\u001b[39m\u001b[39m\"\u001b[39m\u001b[39mparameter of \u001b[39m\u001b[39m\\\u001b[39m\u001b[39mw+ must be\u001b[39m\u001b[39m\"\u001b[39m,\n\u001b[0;32m    219\u001b[0m         \u001b[39mf\u001b[39m\u001b[39m\"\u001b[39m\u001b[39mparameter of \u001b[39m\u001b[39m{\u001b[39;00mfunc\u001b[39m.\u001b[39m\u001b[39m__qualname__\u001b[39m\u001b[39m}\u001b[39;00m\u001b[39m must be\u001b[39m\u001b[39m\"\u001b[39m,\n\u001b[0;32m    220\u001b[0m         \u001b[39mstr\u001b[39m(e),\n\u001b[0;32m    221\u001b[0m     )\n",
      "File \u001b[1;32mc:\\Users\\psych\\OneDrive\\Escritorio\\IAF5\\proyectos\\proyecto_airlines\\airline\\Lib\\site-packages\\sklearn\\model_selection\\_validation.py:309\u001b[0m, in \u001b[0;36mcross_validate\u001b[1;34m(estimator, X, y, groups, scoring, cv, n_jobs, verbose, fit_params, pre_dispatch, return_train_score, return_estimator, return_indices, error_score)\u001b[0m\n\u001b[0;32m    306\u001b[0m \u001b[39m# We clone the estimator to make sure that all the folds are\u001b[39;00m\n\u001b[0;32m    307\u001b[0m \u001b[39m# independent, and that it is pickle-able.\u001b[39;00m\n\u001b[0;32m    308\u001b[0m parallel \u001b[39m=\u001b[39m Parallel(n_jobs\u001b[39m=\u001b[39mn_jobs, verbose\u001b[39m=\u001b[39mverbose, pre_dispatch\u001b[39m=\u001b[39mpre_dispatch)\n\u001b[1;32m--> 309\u001b[0m results \u001b[39m=\u001b[39m parallel(\n\u001b[0;32m    310\u001b[0m     delayed(_fit_and_score)(\n\u001b[0;32m    311\u001b[0m         clone(estimator),\n\u001b[0;32m    312\u001b[0m         X,\n\u001b[0;32m    313\u001b[0m         y,\n\u001b[0;32m    314\u001b[0m         scorers,\n\u001b[0;32m    315\u001b[0m         train,\n\u001b[0;32m    316\u001b[0m         test,\n\u001b[0;32m    317\u001b[0m         verbose,\n\u001b[0;32m    318\u001b[0m         \u001b[39mNone\u001b[39;49;00m,\n\u001b[0;32m    319\u001b[0m         fit_params,\n\u001b[0;32m    320\u001b[0m         return_train_score\u001b[39m=\u001b[39;49mreturn_train_score,\n\u001b[0;32m    321\u001b[0m         return_times\u001b[39m=\u001b[39;49m\u001b[39mTrue\u001b[39;49;00m,\n\u001b[0;32m    322\u001b[0m         return_estimator\u001b[39m=\u001b[39;49mreturn_estimator,\n\u001b[0;32m    323\u001b[0m         error_score\u001b[39m=\u001b[39;49merror_score,\n\u001b[0;32m    324\u001b[0m     )\n\u001b[0;32m    325\u001b[0m     \u001b[39mfor\u001b[39;49;00m train, test \u001b[39min\u001b[39;49;00m indices\n\u001b[0;32m    326\u001b[0m )\n\u001b[0;32m    328\u001b[0m _warn_or_raise_about_fit_failures(results, error_score)\n\u001b[0;32m    330\u001b[0m \u001b[39m# For callable scoring, the return type is only know after calling. If the\u001b[39;00m\n\u001b[0;32m    331\u001b[0m \u001b[39m# return type is a dictionary, the error scores can now be inserted with\u001b[39;00m\n\u001b[0;32m    332\u001b[0m \u001b[39m# the correct key.\u001b[39;00m\n",
      "File \u001b[1;32mc:\\Users\\psych\\OneDrive\\Escritorio\\IAF5\\proyectos\\proyecto_airlines\\airline\\Lib\\site-packages\\sklearn\\utils\\parallel.py:65\u001b[0m, in \u001b[0;36mParallel.__call__\u001b[1;34m(self, iterable)\u001b[0m\n\u001b[0;32m     60\u001b[0m config \u001b[39m=\u001b[39m get_config()\n\u001b[0;32m     61\u001b[0m iterable_with_config \u001b[39m=\u001b[39m (\n\u001b[0;32m     62\u001b[0m     (_with_config(delayed_func, config), args, kwargs)\n\u001b[0;32m     63\u001b[0m     \u001b[39mfor\u001b[39;00m delayed_func, args, kwargs \u001b[39min\u001b[39;00m iterable\n\u001b[0;32m     64\u001b[0m )\n\u001b[1;32m---> 65\u001b[0m \u001b[39mreturn\u001b[39;00m \u001b[39msuper\u001b[39;49m()\u001b[39m.\u001b[39;49m\u001b[39m__call__\u001b[39;49m(iterable_with_config)\n",
      "File \u001b[1;32mc:\\Users\\psych\\OneDrive\\Escritorio\\IAF5\\proyectos\\proyecto_airlines\\airline\\Lib\\site-packages\\joblib\\parallel.py:1863\u001b[0m, in \u001b[0;36mParallel.__call__\u001b[1;34m(self, iterable)\u001b[0m\n\u001b[0;32m   1861\u001b[0m     output \u001b[39m=\u001b[39m \u001b[39mself\u001b[39m\u001b[39m.\u001b[39m_get_sequential_output(iterable)\n\u001b[0;32m   1862\u001b[0m     \u001b[39mnext\u001b[39m(output)\n\u001b[1;32m-> 1863\u001b[0m     \u001b[39mreturn\u001b[39;00m output \u001b[39mif\u001b[39;00m \u001b[39mself\u001b[39m\u001b[39m.\u001b[39mreturn_generator \u001b[39melse\u001b[39;00m \u001b[39mlist\u001b[39;49m(output)\n\u001b[0;32m   1865\u001b[0m \u001b[39m# Let's create an ID that uniquely identifies the current call. If the\u001b[39;00m\n\u001b[0;32m   1866\u001b[0m \u001b[39m# call is interrupted early and that the same instance is immediately\u001b[39;00m\n\u001b[0;32m   1867\u001b[0m \u001b[39m# re-used, this id will be used to prevent workers that were\u001b[39;00m\n\u001b[0;32m   1868\u001b[0m \u001b[39m# concurrently finalizing a task from the previous call to run the\u001b[39;00m\n\u001b[0;32m   1869\u001b[0m \u001b[39m# callback.\u001b[39;00m\n\u001b[0;32m   1870\u001b[0m \u001b[39mwith\u001b[39;00m \u001b[39mself\u001b[39m\u001b[39m.\u001b[39m_lock:\n",
      "File \u001b[1;32mc:\\Users\\psych\\OneDrive\\Escritorio\\IAF5\\proyectos\\proyecto_airlines\\airline\\Lib\\site-packages\\joblib\\parallel.py:1792\u001b[0m, in \u001b[0;36mParallel._get_sequential_output\u001b[1;34m(self, iterable)\u001b[0m\n\u001b[0;32m   1790\u001b[0m \u001b[39mself\u001b[39m\u001b[39m.\u001b[39mn_dispatched_batches \u001b[39m+\u001b[39m\u001b[39m=\u001b[39m \u001b[39m1\u001b[39m\n\u001b[0;32m   1791\u001b[0m \u001b[39mself\u001b[39m\u001b[39m.\u001b[39mn_dispatched_tasks \u001b[39m+\u001b[39m\u001b[39m=\u001b[39m \u001b[39m1\u001b[39m\n\u001b[1;32m-> 1792\u001b[0m res \u001b[39m=\u001b[39m func(\u001b[39m*\u001b[39;49margs, \u001b[39m*\u001b[39;49m\u001b[39m*\u001b[39;49mkwargs)\n\u001b[0;32m   1793\u001b[0m \u001b[39mself\u001b[39m\u001b[39m.\u001b[39mn_completed_tasks \u001b[39m+\u001b[39m\u001b[39m=\u001b[39m \u001b[39m1\u001b[39m\n\u001b[0;32m   1794\u001b[0m \u001b[39mself\u001b[39m\u001b[39m.\u001b[39mprint_progress()\n",
      "File \u001b[1;32mc:\\Users\\psych\\OneDrive\\Escritorio\\IAF5\\proyectos\\proyecto_airlines\\airline\\Lib\\site-packages\\sklearn\\utils\\parallel.py:127\u001b[0m, in \u001b[0;36m_FuncWrapper.__call__\u001b[1;34m(self, *args, **kwargs)\u001b[0m\n\u001b[0;32m    125\u001b[0m     config \u001b[39m=\u001b[39m {}\n\u001b[0;32m    126\u001b[0m \u001b[39mwith\u001b[39;00m config_context(\u001b[39m*\u001b[39m\u001b[39m*\u001b[39mconfig):\n\u001b[1;32m--> 127\u001b[0m     \u001b[39mreturn\u001b[39;00m \u001b[39mself\u001b[39;49m\u001b[39m.\u001b[39;49mfunction(\u001b[39m*\u001b[39;49margs, \u001b[39m*\u001b[39;49m\u001b[39m*\u001b[39;49mkwargs)\n",
      "File \u001b[1;32mc:\\Users\\psych\\OneDrive\\Escritorio\\IAF5\\proyectos\\proyecto_airlines\\airline\\Lib\\site-packages\\sklearn\\model_selection\\_validation.py:757\u001b[0m, in \u001b[0;36m_fit_and_score\u001b[1;34m(estimator, X, y, scorer, train, test, verbose, parameters, fit_params, return_train_score, return_parameters, return_n_test_samples, return_times, return_estimator, split_progress, candidate_progress, error_score)\u001b[0m\n\u001b[0;32m    755\u001b[0m     score_time \u001b[39m=\u001b[39m time\u001b[39m.\u001b[39mtime() \u001b[39m-\u001b[39m start_time \u001b[39m-\u001b[39m fit_time\n\u001b[0;32m    756\u001b[0m     \u001b[39mif\u001b[39;00m return_train_score:\n\u001b[1;32m--> 757\u001b[0m         train_scores \u001b[39m=\u001b[39m _score(estimator, X_train, y_train, scorer, error_score)\n\u001b[0;32m    759\u001b[0m \u001b[39mif\u001b[39;00m verbose \u001b[39m>\u001b[39m \u001b[39m1\u001b[39m:\n\u001b[0;32m    760\u001b[0m     total_time \u001b[39m=\u001b[39m score_time \u001b[39m+\u001b[39m fit_time\n",
      "File \u001b[1;32mc:\\Users\\psych\\OneDrive\\Escritorio\\IAF5\\proyectos\\proyecto_airlines\\airline\\Lib\\site-packages\\sklearn\\model_selection\\_validation.py:813\u001b[0m, in \u001b[0;36m_score\u001b[1;34m(estimator, X_test, y_test, scorer, error_score)\u001b[0m\n\u001b[0;32m    811\u001b[0m         scores \u001b[39m=\u001b[39m scorer(estimator, X_test)\n\u001b[0;32m    812\u001b[0m     \u001b[39melse\u001b[39;00m:\n\u001b[1;32m--> 813\u001b[0m         scores \u001b[39m=\u001b[39m scorer(estimator, X_test, y_test)\n\u001b[0;32m    814\u001b[0m \u001b[39mexcept\u001b[39;00m \u001b[39mException\u001b[39;00m:\n\u001b[0;32m    815\u001b[0m     \u001b[39mif\u001b[39;00m \u001b[39misinstance\u001b[39m(scorer, _MultimetricScorer):\n\u001b[0;32m    816\u001b[0m         \u001b[39m# If `_MultimetricScorer` raises exception, the `error_score`\u001b[39;00m\n\u001b[0;32m    817\u001b[0m         \u001b[39m# parameter is equal to \"raise\".\u001b[39;00m\n",
      "File \u001b[1;32mc:\\Users\\psych\\OneDrive\\Escritorio\\IAF5\\proyectos\\proyecto_airlines\\airline\\Lib\\site-packages\\sklearn\\metrics\\_scorer.py:136\u001b[0m, in \u001b[0;36m_MultimetricScorer.__call__\u001b[1;34m(self, estimator, *args, **kwargs)\u001b[0m\n\u001b[0;32m    134\u001b[0m \u001b[39mtry\u001b[39;00m:\n\u001b[0;32m    135\u001b[0m     \u001b[39mif\u001b[39;00m \u001b[39misinstance\u001b[39m(scorer, _BaseScorer):\n\u001b[1;32m--> 136\u001b[0m         score \u001b[39m=\u001b[39m scorer\u001b[39m.\u001b[39;49m_score(\n\u001b[0;32m    137\u001b[0m             cached_call, estimator, \u001b[39m*\u001b[39;49margs, \u001b[39m*\u001b[39;49m\u001b[39m*\u001b[39;49mrouted_params\u001b[39m.\u001b[39;49mget(name)\u001b[39m.\u001b[39;49mscore\n\u001b[0;32m    138\u001b[0m         )\n\u001b[0;32m    139\u001b[0m     \u001b[39melse\u001b[39;00m:\n\u001b[0;32m    140\u001b[0m         score \u001b[39m=\u001b[39m scorer(estimator, \u001b[39m*\u001b[39margs, \u001b[39m*\u001b[39m\u001b[39m*\u001b[39mrouted_params\u001b[39m.\u001b[39mget(name)\u001b[39m.\u001b[39mscore)\n",
      "File \u001b[1;32mc:\\Users\\psych\\OneDrive\\Escritorio\\IAF5\\proyectos\\proyecto_airlines\\airline\\Lib\\site-packages\\sklearn\\metrics\\_scorer.py:355\u001b[0m, in \u001b[0;36m_PredictScorer._score\u001b[1;34m(self, method_caller, estimator, X, y_true, **kwargs)\u001b[0m\n\u001b[0;32m    353\u001b[0m y_pred \u001b[39m=\u001b[39m method_caller(estimator, \u001b[39m\"\u001b[39m\u001b[39mpredict\u001b[39m\u001b[39m\"\u001b[39m, X)\n\u001b[0;32m    354\u001b[0m scoring_kwargs \u001b[39m=\u001b[39m {\u001b[39m*\u001b[39m\u001b[39m*\u001b[39m\u001b[39mself\u001b[39m\u001b[39m.\u001b[39m_kwargs, \u001b[39m*\u001b[39m\u001b[39m*\u001b[39mkwargs}\n\u001b[1;32m--> 355\u001b[0m \u001b[39mreturn\u001b[39;00m \u001b[39mself\u001b[39m\u001b[39m.\u001b[39m_sign \u001b[39m*\u001b[39m \u001b[39mself\u001b[39;49m\u001b[39m.\u001b[39;49m_score_func(y_true, y_pred, \u001b[39m*\u001b[39;49m\u001b[39m*\u001b[39;49mscoring_kwargs)\n",
      "File \u001b[1;32mc:\\Users\\psych\\OneDrive\\Escritorio\\IAF5\\proyectos\\proyecto_airlines\\airline\\Lib\\site-packages\\sklearn\\utils\\_param_validation.py:211\u001b[0m, in \u001b[0;36mvalidate_params.<locals>.decorator.<locals>.wrapper\u001b[1;34m(*args, **kwargs)\u001b[0m\n\u001b[0;32m    205\u001b[0m \u001b[39mtry\u001b[39;00m:\n\u001b[0;32m    206\u001b[0m     \u001b[39mwith\u001b[39;00m config_context(\n\u001b[0;32m    207\u001b[0m         skip_parameter_validation\u001b[39m=\u001b[39m(\n\u001b[0;32m    208\u001b[0m             prefer_skip_nested_validation \u001b[39mor\u001b[39;00m global_skip_validation\n\u001b[0;32m    209\u001b[0m         )\n\u001b[0;32m    210\u001b[0m     ):\n\u001b[1;32m--> 211\u001b[0m         \u001b[39mreturn\u001b[39;00m func(\u001b[39m*\u001b[39;49margs, \u001b[39m*\u001b[39;49m\u001b[39m*\u001b[39;49mkwargs)\n\u001b[0;32m    212\u001b[0m \u001b[39mexcept\u001b[39;00m InvalidParameterError \u001b[39mas\u001b[39;00m e:\n\u001b[0;32m    213\u001b[0m     \u001b[39m# When the function is just a wrapper around an estimator, we allow\u001b[39;00m\n\u001b[0;32m    214\u001b[0m     \u001b[39m# the function to delegate validation to the estimator, but we replace\u001b[39;00m\n\u001b[0;32m    215\u001b[0m     \u001b[39m# the name of the estimator by the name of the function in the error\u001b[39;00m\n\u001b[0;32m    216\u001b[0m     \u001b[39m# message to avoid confusion.\u001b[39;00m\n\u001b[0;32m    217\u001b[0m     msg \u001b[39m=\u001b[39m re\u001b[39m.\u001b[39msub(\n\u001b[0;32m    218\u001b[0m         \u001b[39mr\u001b[39m\u001b[39m\"\u001b[39m\u001b[39mparameter of \u001b[39m\u001b[39m\\\u001b[39m\u001b[39mw+ must be\u001b[39m\u001b[39m\"\u001b[39m,\n\u001b[0;32m    219\u001b[0m         \u001b[39mf\u001b[39m\u001b[39m\"\u001b[39m\u001b[39mparameter of \u001b[39m\u001b[39m{\u001b[39;00mfunc\u001b[39m.\u001b[39m\u001b[39m__qualname__\u001b[39m\u001b[39m}\u001b[39;00m\u001b[39m must be\u001b[39m\u001b[39m\"\u001b[39m,\n\u001b[0;32m    220\u001b[0m         \u001b[39mstr\u001b[39m(e),\n\u001b[0;32m    221\u001b[0m     )\n",
      "File \u001b[1;32mc:\\Users\\psych\\OneDrive\\Escritorio\\IAF5\\proyectos\\proyecto_airlines\\airline\\Lib\\site-packages\\sklearn\\metrics\\_classification.py:2127\u001b[0m, in \u001b[0;36mprecision_score\u001b[1;34m(y_true, y_pred, labels, pos_label, average, sample_weight, zero_division)\u001b[0m\n\u001b[0;32m   1970\u001b[0m \u001b[39m@validate_params\u001b[39m(\n\u001b[0;32m   1971\u001b[0m     {\n\u001b[0;32m   1972\u001b[0m         \u001b[39m\"\u001b[39m\u001b[39my_true\u001b[39m\u001b[39m\"\u001b[39m: [\u001b[39m\"\u001b[39m\u001b[39marray-like\u001b[39m\u001b[39m\"\u001b[39m, \u001b[39m\"\u001b[39m\u001b[39msparse matrix\u001b[39m\u001b[39m\"\u001b[39m],\n\u001b[1;32m   (...)\u001b[0m\n\u001b[0;32m   1996\u001b[0m     zero_division\u001b[39m=\u001b[39m\u001b[39m\"\u001b[39m\u001b[39mwarn\u001b[39m\u001b[39m\"\u001b[39m,\n\u001b[0;32m   1997\u001b[0m ):\n\u001b[0;32m   1998\u001b[0m \u001b[39m    \u001b[39m\u001b[39m\"\"\"Compute the precision.\u001b[39;00m\n\u001b[0;32m   1999\u001b[0m \n\u001b[0;32m   2000\u001b[0m \u001b[39m    The precision is the ratio ``tp / (tp + fp)`` where ``tp`` is the number of\u001b[39;00m\n\u001b[1;32m   (...)\u001b[0m\n\u001b[0;32m   2125\u001b[0m \u001b[39m    array([0.5, 1. , 1. ])\u001b[39;00m\n\u001b[0;32m   2126\u001b[0m \u001b[39m    \"\"\"\u001b[39;00m\n\u001b[1;32m-> 2127\u001b[0m     p, _, _, _ \u001b[39m=\u001b[39m precision_recall_fscore_support(\n\u001b[0;32m   2128\u001b[0m         y_true,\n\u001b[0;32m   2129\u001b[0m         y_pred,\n\u001b[0;32m   2130\u001b[0m         labels\u001b[39m=\u001b[39;49mlabels,\n\u001b[0;32m   2131\u001b[0m         pos_label\u001b[39m=\u001b[39;49mpos_label,\n\u001b[0;32m   2132\u001b[0m         average\u001b[39m=\u001b[39;49maverage,\n\u001b[0;32m   2133\u001b[0m         warn_for\u001b[39m=\u001b[39;49m(\u001b[39m\"\u001b[39;49m\u001b[39mprecision\u001b[39;49m\u001b[39m\"\u001b[39;49m,),\n\u001b[0;32m   2134\u001b[0m         sample_weight\u001b[39m=\u001b[39;49msample_weight,\n\u001b[0;32m   2135\u001b[0m         zero_division\u001b[39m=\u001b[39;49mzero_division,\n\u001b[0;32m   2136\u001b[0m     )\n\u001b[0;32m   2137\u001b[0m     \u001b[39mreturn\u001b[39;00m p\n",
      "File \u001b[1;32mc:\\Users\\psych\\OneDrive\\Escritorio\\IAF5\\proyectos\\proyecto_airlines\\airline\\Lib\\site-packages\\sklearn\\utils\\_param_validation.py:184\u001b[0m, in \u001b[0;36mvalidate_params.<locals>.decorator.<locals>.wrapper\u001b[1;34m(*args, **kwargs)\u001b[0m\n\u001b[0;32m    182\u001b[0m global_skip_validation \u001b[39m=\u001b[39m get_config()[\u001b[39m\"\u001b[39m\u001b[39mskip_parameter_validation\u001b[39m\u001b[39m\"\u001b[39m]\n\u001b[0;32m    183\u001b[0m \u001b[39mif\u001b[39;00m global_skip_validation:\n\u001b[1;32m--> 184\u001b[0m     \u001b[39mreturn\u001b[39;00m func(\u001b[39m*\u001b[39;49margs, \u001b[39m*\u001b[39;49m\u001b[39m*\u001b[39;49mkwargs)\n\u001b[0;32m    186\u001b[0m func_sig \u001b[39m=\u001b[39m signature(func)\n\u001b[0;32m    188\u001b[0m \u001b[39m# Map *args/**kwargs to the function signature\u001b[39;00m\n",
      "File \u001b[1;32mc:\\Users\\psych\\OneDrive\\Escritorio\\IAF5\\proyectos\\proyecto_airlines\\airline\\Lib\\site-packages\\sklearn\\metrics\\_classification.py:1721\u001b[0m, in \u001b[0;36mprecision_recall_fscore_support\u001b[1;34m(y_true, y_pred, beta, labels, pos_label, average, warn_for, sample_weight, zero_division)\u001b[0m\n\u001b[0;32m   1563\u001b[0m \u001b[39m\u001b[39m\u001b[39m\"\"\"Compute precision, recall, F-measure and support for each class.\u001b[39;00m\n\u001b[0;32m   1564\u001b[0m \n\u001b[0;32m   1565\u001b[0m \u001b[39mThe precision is the ratio ``tp / (tp + fp)`` where ``tp`` is the number of\u001b[39;00m\n\u001b[1;32m   (...)\u001b[0m\n\u001b[0;32m   1718\u001b[0m \u001b[39m array([2, 2, 2]))\u001b[39;00m\n\u001b[0;32m   1719\u001b[0m \u001b[39m\"\"\"\u001b[39;00m\n\u001b[0;32m   1720\u001b[0m zero_division_value \u001b[39m=\u001b[39m _check_zero_division(zero_division)\n\u001b[1;32m-> 1721\u001b[0m labels \u001b[39m=\u001b[39m _check_set_wise_labels(y_true, y_pred, average, labels, pos_label)\n\u001b[0;32m   1723\u001b[0m \u001b[39m# Calculate tp_sum, pred_sum, true_sum ###\u001b[39;00m\n\u001b[0;32m   1724\u001b[0m samplewise \u001b[39m=\u001b[39m average \u001b[39m==\u001b[39m \u001b[39m\"\u001b[39m\u001b[39msamples\u001b[39m\u001b[39m\"\u001b[39m\n",
      "File \u001b[1;32mc:\\Users\\psych\\OneDrive\\Escritorio\\IAF5\\proyectos\\proyecto_airlines\\airline\\Lib\\site-packages\\sklearn\\metrics\\_classification.py:1499\u001b[0m, in \u001b[0;36m_check_set_wise_labels\u001b[1;34m(y_true, y_pred, average, labels, pos_label)\u001b[0m\n\u001b[0;32m   1496\u001b[0m \u001b[39mif\u001b[39;00m average \u001b[39mnot\u001b[39;00m \u001b[39min\u001b[39;00m average_options \u001b[39mand\u001b[39;00m average \u001b[39m!=\u001b[39m \u001b[39m\"\u001b[39m\u001b[39mbinary\u001b[39m\u001b[39m\"\u001b[39m:\n\u001b[0;32m   1497\u001b[0m     \u001b[39mraise\u001b[39;00m \u001b[39mValueError\u001b[39;00m(\u001b[39m\"\u001b[39m\u001b[39maverage has to be one of \u001b[39m\u001b[39m\"\u001b[39m \u001b[39m+\u001b[39m \u001b[39mstr\u001b[39m(average_options))\n\u001b[1;32m-> 1499\u001b[0m y_type, y_true, y_pred \u001b[39m=\u001b[39m _check_targets(y_true, y_pred)\n\u001b[0;32m   1500\u001b[0m \u001b[39m# Convert to Python primitive type to avoid NumPy type / Python str\u001b[39;00m\n\u001b[0;32m   1501\u001b[0m \u001b[39m# comparison. See https://github.com/numpy/numpy/issues/6784\u001b[39;00m\n\u001b[0;32m   1502\u001b[0m present_labels \u001b[39m=\u001b[39m unique_labels(y_true, y_pred)\u001b[39m.\u001b[39mtolist()\n",
      "File \u001b[1;32mc:\\Users\\psych\\OneDrive\\Escritorio\\IAF5\\proyectos\\proyecto_airlines\\airline\\Lib\\site-packages\\sklearn\\metrics\\_classification.py:111\u001b[0m, in \u001b[0;36m_check_targets\u001b[1;34m(y_true, y_pred)\u001b[0m\n\u001b[0;32m    109\u001b[0m \u001b[39mif\u001b[39;00m y_type \u001b[39m==\u001b[39m \u001b[39m\"\u001b[39m\u001b[39mbinary\u001b[39m\u001b[39m\"\u001b[39m:\n\u001b[0;32m    110\u001b[0m     \u001b[39mtry\u001b[39;00m:\n\u001b[1;32m--> 111\u001b[0m         unique_values \u001b[39m=\u001b[39m np\u001b[39m.\u001b[39;49munion1d(y_true, y_pred)\n\u001b[0;32m    112\u001b[0m     \u001b[39mexcept\u001b[39;00m \u001b[39mTypeError\u001b[39;00m \u001b[39mas\u001b[39;00m e:\n\u001b[0;32m    113\u001b[0m         \u001b[39m# We expect y_true and y_pred to be of the same data type.\u001b[39;00m\n\u001b[0;32m    114\u001b[0m         \u001b[39m# If `y_true` was provided to the classifier as strings,\u001b[39;00m\n\u001b[0;32m    115\u001b[0m         \u001b[39m# `y_pred` given by the classifier will also be encoded with\u001b[39;00m\n\u001b[0;32m    116\u001b[0m         \u001b[39m# strings. So we raise a meaningful error\u001b[39;00m\n\u001b[0;32m    117\u001b[0m         \u001b[39mraise\u001b[39;00m \u001b[39mTypeError\u001b[39;00m(\n\u001b[0;32m    118\u001b[0m             \u001b[39m\"\u001b[39m\u001b[39mLabels in y_true and y_pred should be of the same type. \u001b[39m\u001b[39m\"\u001b[39m\n\u001b[0;32m    119\u001b[0m             \u001b[39mf\u001b[39m\u001b[39m\"\u001b[39m\u001b[39mGot y_true=\u001b[39m\u001b[39m{\u001b[39;00mnp\u001b[39m.\u001b[39munique(y_true)\u001b[39m}\u001b[39;00m\u001b[39m and \u001b[39m\u001b[39m\"\u001b[39m\n\u001b[1;32m   (...)\u001b[0m\n\u001b[0;32m    122\u001b[0m             \u001b[39m\"\u001b[39m\u001b[39mthe true labels.\u001b[39m\u001b[39m\"\u001b[39m\n\u001b[0;32m    123\u001b[0m         ) \u001b[39mfrom\u001b[39;00m \u001b[39me\u001b[39;00m\n",
      "File \u001b[1;32mc:\\Users\\psych\\OneDrive\\Escritorio\\IAF5\\proyectos\\proyecto_airlines\\airline\\Lib\\site-packages\\numpy\\lib\\arraysetops.py:932\u001b[0m, in \u001b[0;36munion1d\u001b[1;34m(ar1, ar2)\u001b[0m\n\u001b[0;32m    898\u001b[0m \u001b[39m@array_function_dispatch\u001b[39m(_union1d_dispatcher)\n\u001b[0;32m    899\u001b[0m \u001b[39mdef\u001b[39;00m \u001b[39munion1d\u001b[39m(ar1, ar2):\n\u001b[0;32m    900\u001b[0m \u001b[39m    \u001b[39m\u001b[39m\"\"\"\u001b[39;00m\n\u001b[0;32m    901\u001b[0m \u001b[39m    Find the union of two arrays.\u001b[39;00m\n\u001b[0;32m    902\u001b[0m \n\u001b[1;32m   (...)\u001b[0m\n\u001b[0;32m    930\u001b[0m \u001b[39m    array([1, 2, 3, 4, 6])\u001b[39;00m\n\u001b[0;32m    931\u001b[0m \u001b[39m    \"\"\"\u001b[39;00m\n\u001b[1;32m--> 932\u001b[0m     \u001b[39mreturn\u001b[39;00m unique(np\u001b[39m.\u001b[39;49mconcatenate((ar1, ar2), axis\u001b[39m=\u001b[39;49m\u001b[39mNone\u001b[39;49;00m))\n",
      "File \u001b[1;32mc:\\Users\\psych\\OneDrive\\Escritorio\\IAF5\\proyectos\\proyecto_airlines\\airline\\Lib\\site-packages\\numpy\\lib\\arraysetops.py:276\u001b[0m, in \u001b[0;36munique\u001b[1;34m(ar, return_index, return_inverse, return_counts, axis, equal_nan)\u001b[0m\n\u001b[0;32m    273\u001b[0m \u001b[39mif\u001b[39;00m axis \u001b[39mis\u001b[39;00m \u001b[39mNone\u001b[39;00m:\n\u001b[0;32m    274\u001b[0m     ret \u001b[39m=\u001b[39m _unique1d(ar, return_index, return_inverse, return_counts, \n\u001b[0;32m    275\u001b[0m                     equal_nan\u001b[39m=\u001b[39mequal_nan)\n\u001b[1;32m--> 276\u001b[0m     \u001b[39mreturn\u001b[39;00m _unpack_tuple(ret)\n\u001b[0;32m    278\u001b[0m \u001b[39m# axis was specified and not None\u001b[39;00m\n\u001b[0;32m    279\u001b[0m \u001b[39mtry\u001b[39;00m:\n",
      "File \u001b[1;32mc:\\Users\\psych\\OneDrive\\Escritorio\\IAF5\\proyectos\\proyecto_airlines\\airline\\Lib\\site-packages\\numpy\\lib\\arraysetops.py:125\u001b[0m, in \u001b[0;36m_unpack_tuple\u001b[1;34m(x)\u001b[0m\n\u001b[0;32m    121\u001b[0m     np\u001b[39m.\u001b[39msubtract(ary[\u001b[39m1\u001b[39m:], ary[:\u001b[39m-\u001b[39m\u001b[39m1\u001b[39m], result[l_begin:l_begin \u001b[39m+\u001b[39m l_diff])\n\u001b[0;32m    122\u001b[0m     \u001b[39mreturn\u001b[39;00m result\n\u001b[1;32m--> 125\u001b[0m \u001b[39mdef\u001b[39;00m \u001b[39m_unpack_tuple\u001b[39m(x):\n\u001b[0;32m    126\u001b[0m \u001b[39m    \u001b[39m\u001b[39m\"\"\" Unpacks one-element tuples for use as return values \"\"\"\u001b[39;00m\n\u001b[0;32m    127\u001b[0m     \u001b[39mif\u001b[39;00m \u001b[39mlen\u001b[39m(x) \u001b[39m==\u001b[39m \u001b[39m1\u001b[39m:\n",
      "\u001b[1;31mKeyboardInterrupt\u001b[0m: "
     ]
    }
   ],
   "source": [
    "# Itera sobre los modelos\n",
    "for modelo in modelos:\n",
    "    # Entrena y evalúa el modelo actual\n",
    "    resultados = model_pred(modelo, X, y, save_pickle)\n",
    "    \n",
    "    \n",
    "    # Almacena los resultados en el diccionario\n",
    "    nombre_modelo = type(modelo).__name__\n",
    "    resultados_por_modelo[nombre_modelo] = resultados\n",
    "\n",
    "# Imprime los resultados para cada modelo\n",
    "for nombre_modelo, resultados in resultados_por_modelo.items():\n",
    "    print(f\"Resultados para el modelo {nombre_modelo}:\")\n",
    "    for metrica, valor in resultados.items():\n",
    "        print(f\"{metrica}: {valor}\")\n",
    "\n",
    "    # Obtén la matriz de confusión del diccionario de resultados\n",
    "    matriz_confusion = resultados['cm']\n",
    "\n",
    "    print(f\"Confusion Matrix of {modelo} model is:\")\n",
    "    plt.figure(figsize=(8,4))\n",
    "    sns.heatmap(matriz_confusion,annot=True,fmt=\"g\",cmap='coolwarm')\n",
    "    plt.show()"
   ]
  },
  {
   "cell_type": "code",
   "execution_count": null,
   "id": "9974a967",
   "metadata": {},
   "outputs": [],
   "source": [
    "#model_pred(LogisticRegression(), X, y, save_pickle)"
   ]
  },
  {
   "cell_type": "code",
   "execution_count": null,
   "id": "a9a65d6d",
   "metadata": {},
   "outputs": [],
   "source": [
    "#model_pred(AdaBoostClassifier(n_estimators=200,  random_state=1), X, y, save_pickle)"
   ]
  },
  {
   "cell_type": "code",
   "execution_count": null,
   "id": "0cbc2161",
   "metadata": {},
   "outputs": [],
   "source": []
  }
 ],
 "metadata": {
  "kernelspec": {
   "display_name": "Python 3 (ipykernel)",
   "language": "python",
   "name": "python3"
  },
  "language_info": {
   "codemirror_mode": {
    "name": "ipython",
    "version": 3
   },
   "file_extension": ".py",
   "mimetype": "text/x-python",
   "name": "python",
   "nbconvert_exporter": "python",
   "pygments_lexer": "ipython3",
   "version": "3.11.4"
  }
 },
 "nbformat": 4,
 "nbformat_minor": 5
}
