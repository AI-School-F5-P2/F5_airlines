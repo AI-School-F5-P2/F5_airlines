{
 "cells": [
  {
   "cell_type": "markdown",
   "id": "f63387a7",
   "metadata": {},
   "source": [
    "  # Main simplificado"
   ]
  },
  {
   "cell_type": "code",
   "execution_count": 1,
   "id": "45ce5c1b",
   "metadata": {
    "scrolled": true
   },
   "outputs": [],
   "source": [
    "# Librerías básicas\n",
    "import pandas as pd\n",
    "import numpy as np\n",
    "from tabulate import tabulate\n",
    "import math\n",
    "\n",
    "# Librerías de visualización\n",
    "import matplotlib.pyplot as plt\n",
    "import seaborn as sns\n",
    "import warnings\n",
    "warnings.filterwarnings(\"ignore\")\n",
    "\n",
    "sns.set(style=\"whitegrid\",font_scale=1, palette=\"pastel\")\n",
    "\n",
    "#Libreria para separacion de datos train y test\n",
    "import pickle\n",
    "from pprint import pprint\n",
    "from sklearn.pipeline import Pipeline\n",
    "from sklearn.model_selection import train_test_split, StratifiedKFold\n",
    "from sklearn.preprocessing import  OneHotEncoder, StandardScaler, MinMaxScaler, FunctionTransformer, PowerTransformer\n",
    "from sklearn.compose import make_column_transformer, ColumnTransformer\n",
    "from sklearn.base import BaseEstimator, TransformerMixin\n",
    "\n",
    "from sklearn.linear_model import LogisticRegression\n",
    "from sklearn.neighbors import KNeighborsClassifier\n",
    "from sklearn.tree import DecisionTreeClassifier\n",
    "from sklearn.ensemble import RandomForestClassifier, GradientBoostingClassifier, AdaBoostClassifier, StackingClassifier\n",
    "\n",
    "from sklearn.model_selection import cross_validate, cross_val_score\n",
    " \n",
    "from sklearn.metrics import accuracy_score, f1_score, recall_score, precision_score, confusion_matrix, r2_score,  make_scorer\n",
    "from sklearn.preprocessing import  OneHotEncoder, StandardScaler, MinMaxScaler, FunctionTransformer, PowerTransformer\n",
    "from sklearn.compose import make_column_transformer, ColumnTransformer\n",
    "\n",
    "\n",
    "# Librerias a usar para el modelo de machine learning\n",
    "from sklearn.ensemble import GradientBoostingClassifier, HistGradientBoostingClassifier\n",
    "from sklearn.model_selection import GridSearchCV\n",
    "from sklearn.metrics import accuracy_score, confusion_matrix, classification_report\n",
    "from sklearn.preprocessing import LabelEncoder, OneHotEncoder\n",
    "from sklearn.impute import SimpleImputer\n",
    "from sklearn.experimental import enable_hist_gradient_boosting"
   ]
  },
  {
   "cell_type": "code",
   "execution_count": 33,
   "id": "41fbc4d0",
   "metadata": {},
   "outputs": [],
   "source": [
    "# Flag que indica, cuando es True, que es la última vez que se entrena al modelo definitivo y se puede guardar\n",
    "save_pickle = False"
   ]
  },
  {
   "cell_type": "code",
   "execution_count": 3,
   "id": "072b8369",
   "metadata": {},
   "outputs": [],
   "source": [
    "def model_pred(model, X, y, flag):  \n",
    "   \n",
    "    # Define a column transformer\n",
    "    preprocessor = ColumnTransformer(\n",
    "        transformers=[\n",
    "            ('num', Pipeline(steps=[('imputer', SimpleImputer(strategy='median')),\n",
    "                                    ('scaler', MinMaxScaler())]), num_cols),\n",
    "            ('cat', Pipeline(steps=[('imputer', SimpleImputer(strategy='most_frequent')),\n",
    "                                    ('onehot', OneHotEncoder(handle_unknown='ignore'))]), cat_cols)])\n",
    "\n",
    "    # Create a pipeline\n",
    "    pipeline = Pipeline(steps=[('preprocessor', preprocessor),\n",
    "                                ('model', model)])\n",
    "\n",
    "    # Define the metrics for evaluation\n",
    "    scoring = {\n",
    "        'accuracy': make_scorer(accuracy_score),\n",
    "        'f1': make_scorer(f1_score, average='weighted'),\n",
    "        'recall': make_scorer(recall_score, average='weighted'),\n",
    "        'precision': make_scorer(precision_score, average='weighted')\n",
    "    }\n",
    "\n",
    "    # Perform 5-fold cross-validation\n",
    "    cv_results = cross_validate(pipeline, X, y, cv=5, scoring=scoring, return_train_score=True)\n",
    "\n",
    "    # Calculate overfitting as the difference between training and validation accuracy\n",
    "    overfitting = np.mean(cv_results['train_accuracy']) - np.mean(cv_results['test_accuracy'])\n",
    "\n",
    "    # Store the evaluation results\n",
    "    results = {\n",
    "        'fit_time': np.mean(cv_results['fit_time']),\n",
    "        'accuracy': np.mean(cv_results['test_accuracy']),\n",
    "        'f1': np.mean(cv_results['test_f1']),\n",
    "        'recall': np.mean(cv_results['test_recall']),\n",
    "        'precision': np.mean(cv_results['test_precision']),\n",
    "        'overfitting': overfitting\n",
    "    }\n",
    "\n",
    "    # Train the model on the entire dataset\n",
    "    pipeline.fit(X, y)\n",
    "    \n",
    "    if flag:\n",
    "        # Guardar el pipeline usando Pickle. \n",
    "        with open('data_pipeline.pkl', 'wb') as file:\n",
    "            pickle.dump(pipeline, file)\n",
    "\n",
    "    return results"
   ]
  },
  {
   "cell_type": "code",
   "execution_count": 4,
   "id": "18ba8da8",
   "metadata": {},
   "outputs": [],
   "source": [
    "#Lectura del dataset\n",
    "df = pd.read_csv(\"airline_passenger_satisfaction.csv\")"
   ]
  },
  {
   "cell_type": "code",
   "execution_count": 5,
   "id": "10da0f4c",
   "metadata": {
    "scrolled": true
   },
   "outputs": [
    {
     "data": {
      "text/html": [
       "<div>\n",
       "<style scoped>\n",
       "    .dataframe tbody tr th:only-of-type {\n",
       "        vertical-align: middle;\n",
       "    }\n",
       "\n",
       "    .dataframe tbody tr th {\n",
       "        vertical-align: top;\n",
       "    }\n",
       "\n",
       "    .dataframe thead th {\n",
       "        text-align: right;\n",
       "    }\n",
       "</style>\n",
       "<table border=\"1\" class=\"dataframe\">\n",
       "  <thead>\n",
       "    <tr style=\"text-align: right;\">\n",
       "      <th></th>\n",
       "      <th>Unnamed: 0</th>\n",
       "      <th>id</th>\n",
       "      <th>Gender</th>\n",
       "      <th>Customer Type</th>\n",
       "      <th>Age</th>\n",
       "      <th>Type of Travel</th>\n",
       "      <th>Class</th>\n",
       "      <th>Flight Distance</th>\n",
       "      <th>Inflight wifi service</th>\n",
       "      <th>Departure/Arrival time convenient</th>\n",
       "      <th>Ease of Online booking</th>\n",
       "      <th>Gate location</th>\n",
       "      <th>Food and drink</th>\n",
       "      <th>Online boarding</th>\n",
       "      <th>Seat comfort</th>\n",
       "      <th>Inflight entertainment</th>\n",
       "      <th>On-board service</th>\n",
       "      <th>Leg room service</th>\n",
       "      <th>Baggage handling</th>\n",
       "      <th>Checkin service</th>\n",
       "      <th>Inflight service</th>\n",
       "      <th>Cleanliness</th>\n",
       "      <th>Departure Delay in Minutes</th>\n",
       "      <th>Arrival Delay in Minutes</th>\n",
       "      <th>satisfaction</th>\n",
       "    </tr>\n",
       "  </thead>\n",
       "  <tbody>\n",
       "    <tr>\n",
       "      <th>0</th>\n",
       "      <td>0</td>\n",
       "      <td>70172</td>\n",
       "      <td>Male</td>\n",
       "      <td>Loyal Customer</td>\n",
       "      <td>13</td>\n",
       "      <td>Personal Travel</td>\n",
       "      <td>Eco Plus</td>\n",
       "      <td>460</td>\n",
       "      <td>3</td>\n",
       "      <td>4</td>\n",
       "      <td>3</td>\n",
       "      <td>1</td>\n",
       "      <td>5</td>\n",
       "      <td>3</td>\n",
       "      <td>5</td>\n",
       "      <td>5</td>\n",
       "      <td>4</td>\n",
       "      <td>3</td>\n",
       "      <td>4</td>\n",
       "      <td>4</td>\n",
       "      <td>5</td>\n",
       "      <td>5</td>\n",
       "      <td>25</td>\n",
       "      <td>18.0</td>\n",
       "      <td>neutral or dissatisfied</td>\n",
       "    </tr>\n",
       "    <tr>\n",
       "      <th>1</th>\n",
       "      <td>1</td>\n",
       "      <td>5047</td>\n",
       "      <td>Male</td>\n",
       "      <td>disloyal Customer</td>\n",
       "      <td>25</td>\n",
       "      <td>Business travel</td>\n",
       "      <td>Business</td>\n",
       "      <td>235</td>\n",
       "      <td>3</td>\n",
       "      <td>2</td>\n",
       "      <td>3</td>\n",
       "      <td>3</td>\n",
       "      <td>1</td>\n",
       "      <td>3</td>\n",
       "      <td>1</td>\n",
       "      <td>1</td>\n",
       "      <td>1</td>\n",
       "      <td>5</td>\n",
       "      <td>3</td>\n",
       "      <td>1</td>\n",
       "      <td>4</td>\n",
       "      <td>1</td>\n",
       "      <td>1</td>\n",
       "      <td>6.0</td>\n",
       "      <td>neutral or dissatisfied</td>\n",
       "    </tr>\n",
       "    <tr>\n",
       "      <th>2</th>\n",
       "      <td>2</td>\n",
       "      <td>110028</td>\n",
       "      <td>Female</td>\n",
       "      <td>Loyal Customer</td>\n",
       "      <td>26</td>\n",
       "      <td>Business travel</td>\n",
       "      <td>Business</td>\n",
       "      <td>1142</td>\n",
       "      <td>2</td>\n",
       "      <td>2</td>\n",
       "      <td>2</td>\n",
       "      <td>2</td>\n",
       "      <td>5</td>\n",
       "      <td>5</td>\n",
       "      <td>5</td>\n",
       "      <td>5</td>\n",
       "      <td>4</td>\n",
       "      <td>3</td>\n",
       "      <td>4</td>\n",
       "      <td>4</td>\n",
       "      <td>4</td>\n",
       "      <td>5</td>\n",
       "      <td>0</td>\n",
       "      <td>0.0</td>\n",
       "      <td>satisfied</td>\n",
       "    </tr>\n",
       "    <tr>\n",
       "      <th>3</th>\n",
       "      <td>3</td>\n",
       "      <td>24026</td>\n",
       "      <td>Female</td>\n",
       "      <td>Loyal Customer</td>\n",
       "      <td>25</td>\n",
       "      <td>Business travel</td>\n",
       "      <td>Business</td>\n",
       "      <td>562</td>\n",
       "      <td>2</td>\n",
       "      <td>5</td>\n",
       "      <td>5</td>\n",
       "      <td>5</td>\n",
       "      <td>2</td>\n",
       "      <td>2</td>\n",
       "      <td>2</td>\n",
       "      <td>2</td>\n",
       "      <td>2</td>\n",
       "      <td>5</td>\n",
       "      <td>3</td>\n",
       "      <td>1</td>\n",
       "      <td>4</td>\n",
       "      <td>2</td>\n",
       "      <td>11</td>\n",
       "      <td>9.0</td>\n",
       "      <td>neutral or dissatisfied</td>\n",
       "    </tr>\n",
       "    <tr>\n",
       "      <th>4</th>\n",
       "      <td>4</td>\n",
       "      <td>119299</td>\n",
       "      <td>Male</td>\n",
       "      <td>Loyal Customer</td>\n",
       "      <td>61</td>\n",
       "      <td>Business travel</td>\n",
       "      <td>Business</td>\n",
       "      <td>214</td>\n",
       "      <td>3</td>\n",
       "      <td>3</td>\n",
       "      <td>3</td>\n",
       "      <td>3</td>\n",
       "      <td>4</td>\n",
       "      <td>5</td>\n",
       "      <td>5</td>\n",
       "      <td>3</td>\n",
       "      <td>3</td>\n",
       "      <td>4</td>\n",
       "      <td>4</td>\n",
       "      <td>3</td>\n",
       "      <td>3</td>\n",
       "      <td>3</td>\n",
       "      <td>0</td>\n",
       "      <td>0.0</td>\n",
       "      <td>satisfied</td>\n",
       "    </tr>\n",
       "  </tbody>\n",
       "</table>\n",
       "</div>"
      ],
      "text/plain": [
       "   Unnamed: 0      id  Gender      Customer Type  Age   Type of Travel  \\\n",
       "0           0   70172    Male     Loyal Customer   13  Personal Travel   \n",
       "1           1    5047    Male  disloyal Customer   25  Business travel   \n",
       "2           2  110028  Female     Loyal Customer   26  Business travel   \n",
       "3           3   24026  Female     Loyal Customer   25  Business travel   \n",
       "4           4  119299    Male     Loyal Customer   61  Business travel   \n",
       "\n",
       "      Class  Flight Distance  Inflight wifi service  \\\n",
       "0  Eco Plus              460                      3   \n",
       "1  Business              235                      3   \n",
       "2  Business             1142                      2   \n",
       "3  Business              562                      2   \n",
       "4  Business              214                      3   \n",
       "\n",
       "   Departure/Arrival time convenient  Ease of Online booking  Gate location  \\\n",
       "0                                  4                       3              1   \n",
       "1                                  2                       3              3   \n",
       "2                                  2                       2              2   \n",
       "3                                  5                       5              5   \n",
       "4                                  3                       3              3   \n",
       "\n",
       "   Food and drink  Online boarding  Seat comfort  Inflight entertainment  \\\n",
       "0               5                3             5                       5   \n",
       "1               1                3             1                       1   \n",
       "2               5                5             5                       5   \n",
       "3               2                2             2                       2   \n",
       "4               4                5             5                       3   \n",
       "\n",
       "   On-board service  Leg room service  Baggage handling  Checkin service  \\\n",
       "0                 4                 3                 4                4   \n",
       "1                 1                 5                 3                1   \n",
       "2                 4                 3                 4                4   \n",
       "3                 2                 5                 3                1   \n",
       "4                 3                 4                 4                3   \n",
       "\n",
       "   Inflight service  Cleanliness  Departure Delay in Minutes  \\\n",
       "0                 5            5                          25   \n",
       "1                 4            1                           1   \n",
       "2                 4            5                           0   \n",
       "3                 4            2                          11   \n",
       "4                 3            3                           0   \n",
       "\n",
       "   Arrival Delay in Minutes             satisfaction  \n",
       "0                      18.0  neutral or dissatisfied  \n",
       "1                       6.0  neutral or dissatisfied  \n",
       "2                       0.0                satisfied  \n",
       "3                       9.0  neutral or dissatisfied  \n",
       "4                       0.0                satisfied  "
      ]
     },
     "execution_count": 5,
     "metadata": {},
     "output_type": "execute_result"
    }
   ],
   "source": [
    "# Configura Pandas para mostrar todas las columnas\n",
    "pd.set_option('display.max_columns', None)\n",
    "\n",
    "df.head()"
   ]
  },
  {
   "cell_type": "code",
   "execution_count": 6,
   "id": "89355c75-eee8-4889-ad7a-31f5953951b9",
   "metadata": {},
   "outputs": [
    {
     "data": {
      "text/plain": [
       "0     460\n",
       "1     235\n",
       "2    1142\n",
       "3     562\n",
       "4     214\n",
       "Name: Flight Distance, dtype: int64"
      ]
     },
     "execution_count": 6,
     "metadata": {},
     "output_type": "execute_result"
    }
   ],
   "source": [
    "df['Flight Distance'].head()"
   ]
  },
  {
   "cell_type": "code",
   "execution_count": 7,
   "id": "ed931d7f",
   "metadata": {
    "scrolled": true
   },
   "outputs": [
    {
     "data": {
      "text/plain": [
       "0       Loyal Customer\n",
       "1    disloyal Customer\n",
       "2       Loyal Customer\n",
       "3       Loyal Customer\n",
       "4       Loyal Customer\n",
       "Name: Customer Type, dtype: object"
      ]
     },
     "execution_count": 7,
     "metadata": {},
     "output_type": "execute_result"
    }
   ],
   "source": [
    "df['Customer Type'].head()"
   ]
  },
  {
   "cell_type": "code",
   "execution_count": 8,
   "id": "ccb3278c",
   "metadata": {},
   "outputs": [],
   "source": [
    "# Cambiar solo 'disloyal Customer' a 'Disloyal Customer'. Acordarme de ponerlo en el pipeline\n",
    "df.loc[df['Customer Type'] == 'disloyal Customer', 'Customer Type'] = 'Disloyal Customer'"
   ]
  },
  {
   "cell_type": "code",
   "execution_count": 9,
   "id": "8680dddf-9e8f-4af7-ab5b-618b5b94f8aa",
   "metadata": {},
   "outputs": [
    {
     "data": {
      "text/plain": [
       "0     460\n",
       "1     235\n",
       "2    1142\n",
       "3     562\n",
       "4     214\n",
       "Name: Flight Distance, dtype: int64"
      ]
     },
     "execution_count": 9,
     "metadata": {},
     "output_type": "execute_result"
    }
   ],
   "source": [
    "df['Flight Distance'].head()"
   ]
  },
  {
   "cell_type": "code",
   "execution_count": 10,
   "id": "bda73305",
   "metadata": {},
   "outputs": [],
   "source": [
    "# Para llenar los valores nulos con la media: (MIRAR SI SE IMPUTAN CON MEDIA O MEDIANA)\n",
    "df['Arrival Delay in Minutes'] = df['Arrival Delay in Minutes'].fillna(df['Arrival Delay in Minutes'].mean())"
   ]
  },
  {
   "cell_type": "code",
   "execution_count": 11,
   "id": "babbd661",
   "metadata": {},
   "outputs": [],
   "source": [
    "# Para convertir una columna de tipo float a int \n",
    "df['Arrival Delay in Minutes'] = df['Arrival Delay in Minutes'].astype(int)"
   ]
  },
  {
   "cell_type": "code",
   "execution_count": 23,
   "id": "b0aeffa2",
   "metadata": {},
   "outputs": [],
   "source": [
    "# Se borran las columnas que no nos hacen falta\n",
    "columna_a_borrar = ['Unnamed: 0', \"id\"]\n",
    "#df = df.drop(columna_a_borrar, axis=1, inplace=True)"
   ]
  },
  {
   "cell_type": "code",
   "execution_count": 24,
   "id": "3d1d8b96",
   "metadata": {},
   "outputs": [],
   "source": [
    "# Outliers"
   ]
  },
  {
   "cell_type": "code",
   "execution_count": 25,
   "id": "5a343f24-f018-447c-911f-a323f351b643",
   "metadata": {},
   "outputs": [
    {
     "name": "stdout",
     "output_type": "stream",
     "text": [
      "<class 'pandas.core.frame.DataFrame'>\n",
      "Index: 103846 entries, 0 to 103903\n",
      "Data columns (total 25 columns):\n",
      " #   Column                             Non-Null Count   Dtype \n",
      "---  ------                             --------------   ----- \n",
      " 0   Unnamed: 0                         103846 non-null  int64 \n",
      " 1   id                                 103846 non-null  int64 \n",
      " 2   Gender                             103846 non-null  object\n",
      " 3   Customer Type                      103846 non-null  object\n",
      " 4   Age                                103846 non-null  int64 \n",
      " 5   Type of Travel                     103846 non-null  object\n",
      " 6   Class                              103846 non-null  object\n",
      " 7   Flight Distance                    103846 non-null  int64 \n",
      " 8   Inflight wifi service              103846 non-null  int64 \n",
      " 9   Departure/Arrival time convenient  103846 non-null  int64 \n",
      " 10  Ease of Online booking             103846 non-null  int64 \n",
      " 11  Gate location                      103846 non-null  int64 \n",
      " 12  Food and drink                     103846 non-null  int64 \n",
      " 13  Online boarding                    103846 non-null  int64 \n",
      " 14  Seat comfort                       103846 non-null  int64 \n",
      " 15  Inflight entertainment             103846 non-null  int64 \n",
      " 16  On-board service                   103846 non-null  int64 \n",
      " 17  Leg room service                   103846 non-null  int64 \n",
      " 18  Baggage handling                   103846 non-null  int64 \n",
      " 19  Checkin service                    103846 non-null  int64 \n",
      " 20  Inflight service                   103846 non-null  int64 \n",
      " 21  Cleanliness                        103846 non-null  int64 \n",
      " 22  Departure Delay in Minutes         103846 non-null  int64 \n",
      " 23  Arrival Delay in Minutes           103846 non-null  int32 \n",
      " 24  satisfaction                       103846 non-null  object\n",
      "dtypes: int32(1), int64(19), object(5)\n",
      "memory usage: 20.2+ MB\n"
     ]
    }
   ],
   "source": [
    "df.info()\n"
   ]
  },
  {
   "cell_type": "code",
   "execution_count": 15,
   "id": "6913015d-9cb8-4ba1-846e-8358106bb520",
   "metadata": {},
   "outputs": [
    {
     "data": {
      "text/plain": [
       "0     460\n",
       "1     235\n",
       "2    1142\n",
       "3     562\n",
       "4     214\n",
       "Name: Flight Distance, dtype: int64"
      ]
     },
     "execution_count": 15,
     "metadata": {},
     "output_type": "execute_result"
    }
   ],
   "source": [
    "df['Flight Distance'].head()"
   ]
  },
  {
   "cell_type": "code",
   "execution_count": 26,
   "id": "2daff532",
   "metadata": {},
   "outputs": [],
   "source": [
    "mean = df[\"Flight Distance\"].mean()\n",
    "std = df[\"Flight Distance\"].std()\n",
    "\n",
    "threshold = 3 * std\n",
    "\n",
    "outliers = df[abs(df['Flight Distance'] - mean) > threshold]"
   ]
  },
  {
   "cell_type": "code",
   "execution_count": 27,
   "id": "62c621f3",
   "metadata": {},
   "outputs": [],
   "source": [
    "df = df.drop(index=outliers.index)"
   ]
  },
  {
   "cell_type": "code",
   "execution_count": null,
   "id": "05eb9046",
   "metadata": {},
   "outputs": [],
   "source": []
  },
  {
   "cell_type": "code",
   "execution_count": null,
   "id": "f0ae1981",
   "metadata": {},
   "outputs": [],
   "source": [
    "#def model_pred(model, X, y, flag):\n",
    "    \n",
    "\n",
    "    #num_transformer = Pipeline(steps=[\n",
    "    #('imputer', SimpleImputer(strategy=\"mean\")),\n",
    "    #('scaler', MinMaxScaler())\n",
    "    #])\n",
    "\n",
    "    #cat_transformer = Pipeline(steps=[\n",
    "    #    ('imputerc', SimpleImputer(strategy=\"most_frequent\")),    \n",
    "    #    ('encoder', OneHotEncoder(handle_unknown='ignore', sparse=False)), #Junto con la opción de Javi\n",
    "    #])\n",
    "\n",
    "    #Aplicar los transformer a nuestras features usando ColumnTransformer, es nuestro pre-procesamiento.\n",
    "\n",
    "   # preprocessor = ColumnTransformer(\n",
    "   #     transformers=[\n",
    "   #        ('numeric', num_transformer, num_cols),\n",
    "   #        ('categorical', cat_transformer, cat_cols)\n",
    "   #     ])\n",
    "    \n",
    "    #PIPELINE\n",
    "    # Estimator o modelo a aplicar\n",
    "    #pipeline = Pipeline(steps = [\n",
    "    #    ('preprocessor', preprocessor),\n",
    "    #    ('modelo', model)\n",
    "    #])\n",
    "    \n",
    "    # Define the metrics for evaluation\n",
    "    scoring = ['accuracy', 'f1', 'recall', 'precision']\n",
    "    \n",
    "    # Initialize a dictionary to store the results\n",
    "    results = {}\n",
    "   \n",
    "    # Definir el objeto StratifiedKFold para la validación cruzada estratificada\n",
    "    # La varible objetivo está desbalanceada\n",
    "    #stratified_cv = StratifiedKFold(n_splits=10, shuffle=True, random_state=42)\n",
    "\n",
    "    \n",
    "    # Lo uso en la Validación cruzada\n",
    "    #cv_results = cross_validate(pipeline, X, y, cv=stratified_cv, \n",
    "                                scoring= scoring, return_train_score=True )\n",
    "\n",
    "         \n",
    "    \n",
    "    \n",
    "    #if flag:\n",
    "    ##    # Guardar el pipeline usando Pickle. Por qué  lo estoy guardando aquí?\n",
    "    #    with open('data_pipeline.pkl', 'wb') as file:\n",
    "    #        pickle.dump(pipeline, file)\n",
    "    \n",
    "    #return results\n"
   ]
  },
  {
   "cell_type": "code",
   "execution_count": 28,
   "id": "7e60f7af",
   "metadata": {},
   "outputs": [],
   "source": [
    "# Separación de características\n",
    "num_cols = [\"Age\",\"Flight Distance\",\"Inflight wifi service\",\"Departure/Arrival time convenient\", \"Ease of Online booking\",\n",
    "                 \"Gate location\", \"Food and drink\", \"Online boarding\", \"Seat comfort\", \"Inflight entertainment\", \"On-board service\",\n",
    "                 \"Leg room service\", \"Baggage handling\", \"Checkin service\", \"Inflight service\", \"Cleanliness\", \"Departure Delay in Minutes\",\n",
    "                 \"Arrival Delay in Minutes\"]\n",
    "\n",
    "cat_cols = ['Gender', 'Customer Type', 'Type of Travel', 'Class']"
   ]
  },
  {
   "cell_type": "code",
   "execution_count": 29,
   "id": "a18771c5",
   "metadata": {
    "scrolled": true
   },
   "outputs": [],
   "source": [
    "modelos = [\n",
    "    LogisticRegression(),\n",
    "    RandomForestClassifier(),\n",
    "    #KNeighborsClassifier(),\n",
    "    # Agrega otros modelos aquí\n",
    "]"
   ]
  },
  {
   "cell_type": "code",
   "execution_count": 30,
   "id": "3731e41a",
   "metadata": {},
   "outputs": [],
   "source": [
    "# Separar Variable Objetivo, target o variable dependiente de las variables independientes\n",
    "df_f = pd.DataFrame(df)\n",
    "y = df_f[\"satisfaction\"]\n",
    "X = df_f.drop(columns=\"satisfaction\")"
   ]
  },
  {
   "cell_type": "code",
   "execution_count": 31,
   "id": "a8ff5d13",
   "metadata": {},
   "outputs": [],
   "source": [
    "# Crea un diccionario para almacenar los resultados de cada modelo\n",
    "resultados_por_modelo = {}"
   ]
  },
  {
   "cell_type": "code",
   "execution_count": 34,
   "id": "5f3e51d7",
   "metadata": {},
   "outputs": [
    {
     "name": "stdout",
     "output_type": "stream",
     "text": [
      "Resultados para el modelo LogisticRegression:\n",
      "fit_time: 1.7396987915039062\n",
      "accuracy: 0.875113158562191\n",
      "f1: 0.8747832819187004\n",
      "recall: 0.875113158562191\n",
      "precision: 0.874989567270093\n",
      "overfitting: 0.00015887936760483612\n",
      "==================================================\n",
      "Resultados para el modelo RandomForestClassifier:\n",
      "fit_time: 17.762808561325073\n",
      "accuracy: 0.9629644066249714\n",
      "f1: 0.9628853756129981\n",
      "recall: 0.9629644066249714\n",
      "precision: 0.9632040517546845\n",
      "overfitting: 0.03702837113051527\n",
      "==================================================\n"
     ]
    }
   ],
   "source": [
    "# Itera sobre los modelos\n",
    "for modelo in modelos:\n",
    "    # Entrena y evalúa el modelo actual\n",
    "    resultados = model_pred(modelo, X, y, save_pickle)\n",
    "    \n",
    "    # Almacena los resultados en el diccionario\n",
    "    nombre_modelo = type(modelo).__name__\n",
    "    resultados_por_modelo[nombre_modelo] = resultados\n",
    "\n",
    "# Imprime los resultados para cada modelo\n",
    "for nombre_modelo, resultados in resultados_por_modelo.items():\n",
    "    print(f\"Resultados para el modelo {nombre_modelo}:\")\n",
    "    for metrica, valor in resultados.items():\n",
    "        print(f\"{metrica}: {valor}\")\n",
    "    print(\"=\" * 50)"
   ]
  },
  {
   "cell_type": "code",
   "execution_count": null,
   "id": "9974a967",
   "metadata": {},
   "outputs": [],
   "source": [
    "#model_pred(LogisticRegression(), X, y, save_pickle)"
   ]
  },
  {
   "cell_type": "code",
   "execution_count": null,
   "id": "a9a65d6d",
   "metadata": {},
   "outputs": [],
   "source": [
    "#model_pred(AdaBoostClassifier(n_estimators=200,  random_state=1), X, y, save_pickle)"
   ]
  },
  {
   "cell_type": "code",
   "execution_count": null,
   "id": "0cbc2161",
   "metadata": {},
   "outputs": [],
   "source": []
  }
 ],
 "metadata": {
  "kernelspec": {
   "display_name": "Python 3 (ipykernel)",
   "language": "python",
   "name": "python3"
  },
  "language_info": {
   "codemirror_mode": {
    "name": "ipython",
    "version": 3
   },
   "file_extension": ".py",
   "mimetype": "text/x-python",
   "name": "python",
   "nbconvert_exporter": "python",
   "pygments_lexer": "ipython3",
   "version": "3.10.12"
  }
 },
 "nbformat": 4,
 "nbformat_minor": 5
}
