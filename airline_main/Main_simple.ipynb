{
 "cells": [
  {
   "cell_type": "markdown",
   "id": "f63387a7",
   "metadata": {},
   "source": [
    "  # Main simplificado"
   ]
  },
  {
   "cell_type": "code",
   "execution_count": 50,
   "id": "45ce5c1b",
   "metadata": {
    "scrolled": true
   },
   "outputs": [],
   "source": [
    "# Librerías básicas\n",
    "import pandas as pd\n",
    "import numpy as np\n",
    "from tabulate import tabulate\n",
    "import math\n",
    "\n",
    "# Librerías de visualización\n",
    "import matplotlib.pyplot as plt\n",
    "import seaborn as sns\n",
    "import warnings\n",
    "warnings.filterwarnings(\"ignore\")\n",
    "\n",
    "sns.set(style=\"whitegrid\",font_scale=1, palette=\"pastel\")\n",
    "\n",
    "#Libreria para separacion de datos train y test\n",
    "import pickle\n",
    "from pprint import pprint\n",
    "from sklearn.pipeline import Pipeline\n",
    "from sklearn.model_selection import train_test_split, StratifiedKFold, cross_val_predict\n",
    "from sklearn.preprocessing import  OneHotEncoder, StandardScaler, MinMaxScaler, FunctionTransformer, PowerTransformer\n",
    "from sklearn.compose import make_column_transformer, ColumnTransformer\n",
    "from sklearn.base import BaseEstimator, TransformerMixin\n",
    "\n",
    "from sklearn.linear_model import LogisticRegression\n",
    "from sklearn.neighbors import KNeighborsClassifier\n",
    "from sklearn.tree import DecisionTreeClassifier\n",
    "from sklearn.ensemble import RandomForestClassifier, GradientBoostingClassifier, AdaBoostClassifier, StackingClassifier\n",
    "\n",
    "from sklearn.model_selection import cross_validate, cross_val_score\n",
    " \n",
    "from sklearn.metrics import accuracy_score, f1_score, recall_score, precision_score, confusion_matrix, r2_score,  make_scorer, roc_curve, roc_auc_score\n",
    "from sklearn.preprocessing import  OneHotEncoder, StandardScaler, MinMaxScaler, FunctionTransformer, PowerTransformer\n",
    "from sklearn.compose import make_column_transformer, ColumnTransformer\n",
    "\n",
    "\n",
    "# Librerias a usar para el modelo de machine learning\n",
    "from sklearn.ensemble import GradientBoostingClassifier, HistGradientBoostingClassifier\n",
    "from sklearn.model_selection import GridSearchCV\n",
    "from sklearn.metrics import accuracy_score, confusion_matrix, classification_report\n",
    "from sklearn.preprocessing import LabelEncoder, OneHotEncoder\n",
    "from sklearn.impute import SimpleImputer\n",
    "from sklearn.experimental import enable_hist_gradient_boosting"
   ]
  },
  {
   "cell_type": "code",
   "execution_count": 7,
   "id": "41fbc4d0",
   "metadata": {},
   "outputs": [],
   "source": [
    "# Flag que indica, cuando es True, que es la última vez que se entrena al modelo definitivo y se puede guardar\n",
    "save_pickle = False"
   ]
  },
  {
   "cell_type": "code",
   "execution_count": 8,
   "id": "b5884903-ea7c-45f9-a8ee-1553ffaeb4b0",
   "metadata": {},
   "outputs": [],
   "source": [
    "def create_pipeline(model, num_cols, cat_cols):\n",
    "\n",
    "    # Define a column transformer\n",
    "    preprocessor = ColumnTransformer(\n",
    "        transformers=[\n",
    "            ('num', Pipeline(steps=[('imputer', SimpleImputer(strategy='median')),\n",
    "                                    ('scaler', MinMaxScaler())]), num_cols),\n",
    "            ('cat', Pipeline(steps=[('imputer', SimpleImputer(strategy='most_frequent')),\n",
    "                                    ('onehot', OneHotEncoder(handle_unknown='ignore'))]), cat_cols)])\n",
    "\n",
    "    # Create a pipeline\n",
    "    pipeline = Pipeline(steps=[('preprocessor', preprocessor),\n",
    "                                ('model', model)])\n",
    "\n",
    "    return pipeline\n",
    "    "
   ]
  },
  {
   "cell_type": "code",
   "execution_count": 39,
   "id": "072b8369",
   "metadata": {},
   "outputs": [],
   "source": [
    "def model_pred(model, X, y, flag):  \n",
    "    \n",
    "    pipeline = create_pipeline(model, num_cols, cat_cols)\n",
    "    \n",
    "    # Define a column transformer\n",
    "    #preprocessor = ColumnTransformer(\n",
    "        #transformers=[\n",
    "            #('num', Pipeline(steps=[('imputer', SimpleImputer(strategy='median')),\n",
    "                                    #('scaler', MinMaxScaler())]), num_cols),\n",
    "            #('cat', Pipeline(steps=[('imputer', SimpleImputer(strategy='most_frequent')),\n",
    "                                    #('onehot', OneHotEncoder(handle_unknown='ignore'))]), cat_cols)])\n",
    "\n",
    "    # Create a pipeline\n",
    "    #pipeline = Pipeline(steps=[('preprocessor', preprocessor),\n",
    "                                #('model', model)])\n",
    "\n",
    "    # Define the metrics for evaluation\n",
    "    scoring = {\n",
    "        'accuracy': make_scorer(accuracy_score),\n",
    "        'f1': make_scorer(f1_score, average='weighted'),\n",
    "        'recall': make_scorer(recall_score, average='weighted'),\n",
    "        'precision': make_scorer(precision_score, average='weighted')\n",
    "    }\n",
    "\n",
    "    # Perform 5-fold cross-validation\n",
    "    cv_results = cross_validate(pipeline, X, y, cv=5, scoring=scoring, return_train_score=True)\n",
    "\n",
    "    # Calculate overfitting as the difference between training and validation accuracy\n",
    "    overfitting = (np.mean(cv_results['train_accuracy']) - np.mean(cv_results['test_accuracy'])) * 100\n",
    "\n",
    "    y_pred = cross_val_predict(pipeline, X, y)\n",
    "    \n",
    "\n",
    "\n",
    "    # Store the evaluation results\n",
    "    results = {\n",
    "        'fit_time': np.mean(cv_results['fit_time']),\n",
    "        'accuracy': np.mean(cv_results['test_accuracy']),\n",
    "        'f1': np.mean(cv_results['test_f1']),\n",
    "        'recall': np.mean(cv_results['test_recall']),\n",
    "        'precision': np.mean(cv_results['test_precision']),\n",
    "        'overfitting': overfitting,\n",
    "        'cm': confusion_matrix(y, y_pred),\n",
    "        'curva': roc_curve(y, y_pred, pos_label='satisfied'),\n",
    "        'curva_total' : roc_auc_score(y, y_pred, pos_label='satisfied')\n",
    "        \n",
    "    }\n",
    "\n",
    "    # Train the model on the entire dataset\n",
    "    pipeline.fit(X, y)\n",
    "    \n",
    "    if flag:\n",
    "        # Guardar el pipeline usando Pickle. \n",
    "        with open('data_pipeline.pkl', 'wb') as file:\n",
    "            pickle.dump(pipeline, file)\n",
    "\n",
    "    return results"
   ]
  },
  {
   "cell_type": "code",
   "execution_count": 25,
   "id": "18ba8da8",
   "metadata": {},
   "outputs": [],
   "source": [
    "#Lectura del dataset\n",
    "df = pd.read_csv(\"airline_passenger_satisfaction.csv\")"
   ]
  },
  {
   "cell_type": "code",
   "execution_count": 26,
   "id": "10da0f4c",
   "metadata": {
    "scrolled": true
   },
   "outputs": [],
   "source": [
    "# Configura Pandas para mostrar todas las columnas\n",
    "pd.set_option('display.max_columns', None)\n"
   ]
  },
  {
   "cell_type": "code",
   "execution_count": 27,
   "id": "ccb3278c",
   "metadata": {},
   "outputs": [],
   "source": [
    "# Cambiar solo 'disloyal Customer' a 'Disloyal Customer'. Acordarme de ponerlo en el pipeline\n",
    "df.loc[df['Customer Type'] == 'disloyal Customer', 'Customer Type'] = 'Disloyal Customer'"
   ]
  },
  {
   "cell_type": "code",
   "execution_count": 28,
   "id": "bda73305",
   "metadata": {},
   "outputs": [],
   "source": [
    "# Para llenar los valores nulos con la media: (MIRAR SI SE IMPUTAN CON MEDIA O MEDIANA)\n",
    "df['Arrival Delay in Minutes'] = df['Arrival Delay in Minutes'].fillna(df['Arrival Delay in Minutes'].mean())"
   ]
  },
  {
   "cell_type": "code",
   "execution_count": 29,
   "id": "babbd661",
   "metadata": {},
   "outputs": [],
   "source": [
    "# Para convertir una columna de tipo float a int \n",
    "df['Arrival Delay in Minutes'] = df['Arrival Delay in Minutes'].astype(int)"
   ]
  },
  {
   "cell_type": "code",
   "execution_count": 30,
   "id": "b0aeffa2",
   "metadata": {},
   "outputs": [],
   "source": [
    "# Se borran las columnas que no nos hacen falta\n",
    "columna_a_borrar = ['Unnamed: 0', \"id\"]\n",
    "#df = df.drop(columna_a_borrar, axis=1, inplace=True)"
   ]
  },
  {
   "cell_type": "code",
   "execution_count": 31,
   "id": "3d1d8b96",
   "metadata": {},
   "outputs": [],
   "source": [
    "# Outliers"
   ]
  },
  {
   "cell_type": "code",
   "execution_count": 32,
   "id": "2daff532",
   "metadata": {},
   "outputs": [],
   "source": [
    "mean = df[\"Flight Distance\"].mean()\n",
    "std = df[\"Flight Distance\"].std()\n",
    "\n",
    "threshold = 3 * std\n",
    "\n",
    "outliers = df[abs(df['Flight Distance'] - mean) > threshold]"
   ]
  },
  {
   "cell_type": "code",
   "execution_count": 33,
   "id": "62c621f3",
   "metadata": {},
   "outputs": [],
   "source": [
    "df = df.drop(index=outliers.index)"
   ]
  },
  {
   "cell_type": "code",
   "execution_count": 40,
   "id": "7e60f7af",
   "metadata": {},
   "outputs": [],
   "source": [
    "# Separación de características\n",
    "num_cols = [\"Age\",\"Flight Distance\",\"Inflight wifi service\",\"Departure/Arrival time convenient\", \"Ease of Online booking\",\n",
    "                 \"Gate location\", \"Food and drink\", \"Online boarding\", \"Seat comfort\", \"Inflight entertainment\", \"On-board service\",\n",
    "                 \"Leg room service\", \"Baggage handling\", \"Checkin service\", \"Inflight service\", \"Cleanliness\", \"Departure Delay in Minutes\",\n",
    "                 \"Arrival Delay in Minutes\"]\n",
    "\n",
    "cat_cols = ['Gender', 'Customer Type', 'Type of Travel', 'Class']"
   ]
  },
  {
   "cell_type": "code",
   "execution_count": 41,
   "id": "a18771c5",
   "metadata": {
    "scrolled": true
   },
   "outputs": [],
   "source": [
    "modelos = [\n",
    "    LogisticRegression(),\n",
    "    #RandomForestClassifier(),\n",
    "    #AdaBoostClassifier(n_estimators=200,  random_state=1)\n",
    "    # Agrega otros modelos aquí\n",
    "]"
   ]
  },
  {
   "cell_type": "code",
   "execution_count": 42,
   "id": "3731e41a",
   "metadata": {},
   "outputs": [],
   "source": [
    "# Separar Variable Objetivo, target o variable dependiente de las variables independientes\n",
    "df_f = pd.DataFrame(df)\n",
    "y = df_f[\"satisfaction\"]\n",
    "X = df_f.drop(columns=\"satisfaction\")"
   ]
  },
  {
   "cell_type": "code",
   "execution_count": 43,
   "id": "a8ff5d13",
   "metadata": {},
   "outputs": [],
   "source": [
    "# Crea un diccionario para almacenar los resultados de cada modelo\n",
    "resultados_por_modelo = {}"
   ]
  },
  {
   "cell_type": "code",
   "execution_count": 44,
   "id": "5f3e51d7",
   "metadata": {},
   "outputs": [
    {
     "name": "stdout",
     "output_type": "stream",
     "text": [
      "Resultados para el modelo LogisticRegression:\n",
      "Fit_time: 1.70\n",
      "Accuracy: 0.88\n",
      "F1: 0.87\n",
      "Recall: 0.88\n",
      "Precision: 0.87\n",
      "Overfitting: 0.02\n",
      "Confusion Matrix of LogisticRegression() model is:\n"
     ]
    },
    {
     "data": {
      "image/png": "[encoded data removed]",
      "text/plain": [
       "<Figure size 800x400 with 2 Axes>"
      ]
     },
     "metadata": {},
     "output_type": "display_data"
    }
   ],
   "source": [
    "# Itera sobre los modelos\n",
    "for modelo in modelos:\n",
    "    # Entrena y evalúa el modelo actual\n",
    "    resultados = model_pred(modelo, X, y, save_pickle)\n",
    "    \n",
    "    \n",
    "    # Almacena los resultados en el diccionario\n",
    "    nombre_modelo = type(modelo).__name__\n",
    "    resultados_por_modelo[nombre_modelo] = resultados\n",
    "\n",
    "# Imprime los resultados para cada modelo\n",
    "for nombre_modelo, resultados in resultados_por_modelo.items():\n",
    "    print(f\"Resultados para el modelo {nombre_modelo}:\")\n",
    "    for metrica, valor in resultados.items():\n",
    "        if metrica in ['fit_time', 'accuracy', 'f1', 'recall', 'precision', 'overfitting']:\n",
    "            print(f\"{metrica.capitalize()}: {valor:.2f}\")\n",
    "        if metrica in ['cm']:\n",
    "            print(f\"Confusion Matrix of {modelo} model is:\")\n",
    "\n",
    "    # Obtén la matriz de confusión del diccionario de resultados\n",
    "    matriz_confusion = resultados['cm']\n",
    "\n",
    "    #print(f\"Confusion Matrix of {modelo} model is:\")\n",
    "    plt.figure(figsize=(8,4))\n",
    "    sns.heatmap(matriz_confusion,annot=True,fmt=\"g\",cmap='coolwarm')\n",
    "    plt.show()"
   ]
  },
  {
   "cell_type": "code",
   "execution_count": 52,
   "id": "d7a89a86-4903-42fd-923b-8ac962ecbe58",
   "metadata": {},
   "outputs": [
    {
     "data": {
      "image/png": "[encoded data removed]",
      "text/plain": [
       "<Figure size 800x600 with 1 Axes>"
      ]
     },
     "metadata": {},
     "output_type": "display_data"
    }
   ],
   "source": [
    "# Supongamos que escogemos AdaBoostClassifier. Volvemos a llamar a la función model_pred()\n",
    "\n",
    "# Flag que indica, cuando es True, que es la última vez que se entrena al modelo definitivo y se puede guardar\n",
    "save_pickle = True \n",
    "\n",
    "model_pred(LogisticRegression(), X, y, save_pickle)\n",
    "\n",
    "model = LogisticRegression()\n",
    "pipeline = create_pipeline(model, num_cols, cat_cols)\n",
    "pipeline.fit(X, y)\n",
    "y_prob = pipeline.predict_proba(X)[:, 1]\n",
    "# Calcular la curva ROC\n",
    "fpr, tpr, thresholds = roc_curve(y, y_prob, pos_label='satisfied')\n",
    "\n",
    "# Calcular el área bajo la curva ROC (AUC)\n",
    "auc = roc_auc_score(y, y_prob)\n",
    "# Trazar la curva ROC\n",
    "plt.figure(figsize=(8, 6))\n",
    "plt.plot(fpr, tpr, label=f'AUC = {auc:.2f}')\n",
    "plt.plot([0, 1], [0, 1], 'k--')\n",
    "plt.xlim([0.0, 1.0])\n",
    "plt.ylim([0.0, 1.05])\n",
    "plt.xlabel('Tasa de Falsos Positivos (FPR)')\n",
    "plt.ylabel('Tasa de Verdaderos Positivos (TPR)')\n",
    "plt.title('Curva ROC')\n",
    "plt.legend(loc=\"lower right\")\n",
    "plt.show()\n",
    "save_pickle = False\n"
   ]
  },
  {
   "cell_type": "code",
   "execution_count": null,
   "id": "9974a967",
   "metadata": {},
   "outputs": [],
   "source": [
    "#model_pred(LogisticRegression(), X, y, save_pickle)"
   ]
  },
  {
   "cell_type": "code",
   "execution_count": null,
   "id": "a9a65d6d",
   "metadata": {},
   "outputs": [],
   "source": [
    "#model_pred(AdaBoostClassifier(n_estimators=200,  random_state=1), X, y, save_pickle)"
   ]
  },
  {
   "cell_type": "code",
   "execution_count": null,
   "id": "0cbc2161",
   "metadata": {},
   "outputs": [],
   "source": []
  }
 ],
 "metadata": {
  "kernelspec": {
   "display_name": "Python 3 (ipykernel)",
   "language": "python",
   "name": "python3"
  },
  "language_info": {
   "codemirror_mode": {
    "name": "ipython",
    "version": 3
   },
   "file_extension": ".py",
   "mimetype": "text/x-python",
   "name": "python",
   "nbconvert_exporter": "python",
   "pygments_lexer": "ipython3",
   "version": "3.10.12"
  }
 },
 "nbformat": 4,
 "nbformat_minor": 5
}
